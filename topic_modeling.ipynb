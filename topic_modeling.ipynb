{
 "cells": [
  {
   "cell_type": "code",
   "execution_count": 1,
   "metadata": {},
   "outputs": [],
   "source": [
    "import acquire\n",
    "import pandas as pd\n",
    "from string import digits\n",
    "import explore\n",
    "import requests\n",
    "from requests import get\n",
    "from bs4 import BeautifulSoup\n",
    "import os\n",
    "import pandas as pd\n",
    "\n",
    "import re\n",
    "import unicodedata\n",
    "import nltk\n",
    "\n",
    "import ngrams\n",
    "from nltk.tokenize.toktok import ToktokTokenizer\n",
    "from nltk.corpus import stopwords\n",
    "from wordcloud import WordCloud\n",
    "import matplotlib.pyplot as plt\n",
    "import seaborn as sns\n",
    "from sklearn.model_selection import train_test_split"
   ]
  },
  {
   "cell_type": "code",
   "execution_count": 2,
   "metadata": {},
   "outputs": [
    {
     "data": {
      "text/html": [
       "<div>\n",
       "<style scoped>\n",
       "    .dataframe tbody tr th:only-of-type {\n",
       "        vertical-align: middle;\n",
       "    }\n",
       "\n",
       "    .dataframe tbody tr th {\n",
       "        vertical-align: top;\n",
       "    }\n",
       "\n",
       "    .dataframe thead th {\n",
       "        text-align: right;\n",
       "    }\n",
       "</style>\n",
       "<table border=\"1\" class=\"dataframe\">\n",
       "  <thead>\n",
       "    <tr style=\"text-align: right;\">\n",
       "      <th></th>\n",
       "      <th>language</th>\n",
       "      <th>content</th>\n",
       "      <th>date</th>\n",
       "    </tr>\n",
       "  </thead>\n",
       "  <tbody>\n",
       "    <tr>\n",
       "      <th>0</th>\n",
       "      <td>Jupyter Notebook</td>\n",
       "      <td>hylite\\nhylite is an open-source python packag...</td>\n",
       "      <td>2020-11-27 17:31:07.762</td>\n",
       "    </tr>\n",
       "    <tr>\n",
       "      <th>1</th>\n",
       "      <td>Python</td>\n",
       "      <td>\\n\\n\\n\\n\\n\\nWebviz subsurface\\n\\n✨👓 Live demo ...</td>\n",
       "      <td>2020-11-27 17:31:08.305</td>\n",
       "    </tr>\n",
       "    <tr>\n",
       "      <th>2</th>\n",
       "      <td>R</td>\n",
       "      <td>Reforester\\nReforester, an R program that:\\n\\n...</td>\n",
       "      <td>2020-11-27 17:31:08.926</td>\n",
       "    </tr>\n",
       "    <tr>\n",
       "      <th>3</th>\n",
       "      <td>JavaScript</td>\n",
       "      <td>Swissgeol NGM\\nA Geology 3D viewer\\nSwissgeol ...</td>\n",
       "      <td>2020-11-27 17:31:09.532</td>\n",
       "    </tr>\n",
       "    <tr>\n",
       "      <th>4</th>\n",
       "      <td>Python</td>\n",
       "      <td>geomodel-2-3dweb\\n\\nGenerates 3D web versions ...</td>\n",
       "      <td>2020-11-27 17:31:10.206</td>\n",
       "    </tr>\n",
       "  </tbody>\n",
       "</table>\n",
       "</div>"
      ],
      "text/plain": [
       "           language                                            content  \\\n",
       "0  Jupyter Notebook  hylite\\nhylite is an open-source python packag...   \n",
       "1            Python  \\n\\n\\n\\n\\n\\nWebviz subsurface\\n\\n✨👓 Live demo ...   \n",
       "2                 R  Reforester\\nReforester, an R program that:\\n\\n...   \n",
       "3        JavaScript  Swissgeol NGM\\nA Geology 3D viewer\\nSwissgeol ...   \n",
       "4            Python  geomodel-2-3dweb\\n\\nGenerates 3D web versions ...   \n",
       "\n",
       "                     date  \n",
       "0 2020-11-27 17:31:07.762  \n",
       "1 2020-11-27 17:31:08.305  \n",
       "2 2020-11-27 17:31:08.926  \n",
       "3 2020-11-27 17:31:09.532  \n",
       "4 2020-11-27 17:31:10.206  "
      ]
     },
     "execution_count": 2,
     "metadata": {},
     "output_type": "execute_result"
    }
   ],
   "source": [
    "df = acquire.get_github_geology_results(cached=True)\n",
    "df.head()"
   ]
  },
  {
   "cell_type": "code",
   "execution_count": 3,
   "metadata": {},
   "outputs": [],
   "source": [
    "###################################### Clean Data Function ###############################\n",
    "\n",
    "def basic_clean(string):\n",
    "    '''\n",
    "    Converts text in to ascii to remove special characters, then converts back in to utf-8\n",
    "    '''\n",
    "    string = (unicodedata.normalize('NFKD', string.lower())\n",
    "            .encode('ascii', 'ignore') # ascii to reduce noise\n",
    "            .decode('utf-8', 'ignore') # decode using utf-8\n",
    "           )\n",
    "    string = re.sub(r\"[^a-z0-9\\s]\", '', string)\n",
    "     # Remove numbers from text\n",
    "    string = re.sub(r'\\d+', '', string)\n",
    "    return string\n",
    "    \n",
    "\n",
    "def tokenize(string):\n",
    "    '''\n",
    "    This function takes in a string and\n",
    "    returns a tokenized string.\n",
    "    '''\n",
    "    # Create tokenizer.\n",
    "    tokenizer = nltk.tokenize.ToktokTokenizer()\n",
    "    \n",
    "    # Use tokenizer\n",
    "    string = tokenizer.tokenize(string, return_str=True)\n",
    "    \n",
    "    return string\n",
    "\n",
    "def lemmatize(string):\n",
    "    '''\n",
    "    This function takes in string for and\n",
    "    returns a string with words lemmatized.\n",
    "    '''\n",
    "    # Create the lemmatizer.\n",
    "    wnl = nltk.stem.WordNetLemmatizer()\n",
    "    \n",
    "    # Use the lemmatizer on each word in the list of words we created by using split.\n",
    "    lemmas = [wnl.lemmatize(word) for word in string.split()]\n",
    "    \n",
    "    # Join our list of words into a string again and assign to a variable.\n",
    "    string = ' '.join(lemmas)\n",
    "    \n",
    "    return string\n",
    "\n",
    "\n",
    "def remove_stopwords(string):\n",
    "    '''\n",
    "    This function takes in a string, optional extra_words and exclude_words parameters\n",
    "    with default empty lists and returns a string.\n",
    "    '''\n",
    "    # Create stopword_list.\n",
    "    stopword_list = stopwords.words('english')\n",
    "    #print(f\"Lenght of stopword list before:{len(stopword_list)}\")\n",
    "    \n",
    "    # Split words in string.\n",
    "    words = string.split()\n",
    "    \n",
    "    # Create a list of words from my string with stopwords removed and assign to variable.\n",
    "    filtered_words = [word for word in words if word not in stopword_list]\n",
    "    \n",
    "    # Join words in the list back into strings and assign to a variable.\n",
    "    string_without_stopwords = ' '.join(filtered_words)\n",
    "    return string_without_stopwords\n",
    "\n",
    "    \n",
    "def clean_data(df):\n",
    "    '''\n",
    "    This function takes in a dataframe of text, cleans, tokenizes, lemmatizes, and removes stopwords\n",
    "    from that text, appending each step in the process to the dataframe.  It also appends a list of \n",
    "    words from each article as well as the total lenght.  \n",
    "    '''    \n",
    "\n",
    "    # Formatts repo contents to make them easier to read\n",
    "    df['text_cleaned'] = df.content.apply(basic_clean)\n",
    "    df['text_tokenized'] = df.text_cleaned.apply(tokenize)\n",
    "    df['text_lemmatized'] = df.text_tokenized.apply(lemmatize)\n",
    "    df['text_filtered'] = df.text_lemmatized.apply(remove_stopwords)\n",
    "    # Add column with list of words\n",
    "    words = [re.sub(r'([^a-z0-9\\s]|\\s.\\s)', '', doc).split() for doc in df.text_filtered]\n",
    "    df = pd.concat([df, pd.DataFrame({'words': words})], axis=1)\n",
    "    # Adds column with lenght of word list\n",
    "    df['doc_length'] = [len(wordlist) for wordlist in df.words]\n",
    "    \n",
    "    # Adds column with bigrams\n",
    "    #df['bigrams'] =  df['text_filtered'].apply(lambda row: list(nltk.ngrams(row.split(), 2)))\n",
    "    df['bigrams'] =  df['text_filtered'].apply(lambda row: list(nltk.bigrams(row.split(' '))))\n",
    "    df['trigrams'] =  df['text_filtered'].apply(lambda row: list(nltk.trigrams(row.split(' '))))\n",
    "    \n",
    "    # Specify dataframe content\n",
    "    df = df[['language','text_filtered','doc_length','words','bigrams','trigrams']]\n",
    "    #df = df['language','text_filtered','words','doc_length']\n",
    "    \n",
    "    # removing non-english languages \n",
    "    language_list = ['JavaScript', 'R', 'Jupyter Notebook','Python','TypeScript']\n",
    "    df = df[df.language.isin(language_list)]\n",
    "    return df"
   ]
  },
  {
   "cell_type": "code",
   "execution_count": 4,
   "metadata": {},
   "outputs": [
    {
     "data": {
      "text/html": [
       "<div>\n",
       "<style scoped>\n",
       "    .dataframe tbody tr th:only-of-type {\n",
       "        vertical-align: middle;\n",
       "    }\n",
       "\n",
       "    .dataframe tbody tr th {\n",
       "        vertical-align: top;\n",
       "    }\n",
       "\n",
       "    .dataframe thead th {\n",
       "        text-align: right;\n",
       "    }\n",
       "</style>\n",
       "<table border=\"1\" class=\"dataframe\">\n",
       "  <thead>\n",
       "    <tr style=\"text-align: right;\">\n",
       "      <th></th>\n",
       "      <th>language</th>\n",
       "      <th>text_filtered</th>\n",
       "      <th>doc_length</th>\n",
       "      <th>words</th>\n",
       "      <th>bigrams</th>\n",
       "      <th>trigrams</th>\n",
       "    </tr>\n",
       "  </thead>\n",
       "  <tbody>\n",
       "    <tr>\n",
       "      <th>0</th>\n",
       "      <td>Jupyter Notebook</td>\n",
       "      <td>hylite hylite opensource python package prepro...</td>\n",
       "      <td>300</td>\n",
       "      <td>[hylite, hylite, opensource, python, package, ...</td>\n",
       "      <td>[(hylite, hylite), (hylite, opensource), (open...</td>\n",
       "      <td>[(hylite, hylite, opensource), (hylite, openso...</td>\n",
       "    </tr>\n",
       "    <tr>\n",
       "      <th>1</th>\n",
       "      <td>Python</td>\n",
       "      <td>webviz subsurface live demo application introd...</td>\n",
       "      <td>261</td>\n",
       "      <td>[webviz, subsurface, live, demo, application, ...</td>\n",
       "      <td>[(webviz, subsurface), (subsurface, live), (li...</td>\n",
       "      <td>[(webviz, subsurface, live), (subsurface, live...</td>\n",
       "    </tr>\n",
       "    <tr>\n",
       "      <th>2</th>\n",
       "      <td>R</td>\n",
       "      <td>reforester reforester r program us logistic bi...</td>\n",
       "      <td>771</td>\n",
       "      <td>[reforester, reforesterprogram, us, logistic, ...</td>\n",
       "      <td>[(reforester, reforester), (reforester, r), (r...</td>\n",
       "      <td>[(reforester, reforester, r), (reforester, r, ...</td>\n",
       "    </tr>\n",
       "    <tr>\n",
       "      <th>3</th>\n",
       "      <td>JavaScript</td>\n",
       "      <td>swissgeol ngm geology viewer swissgeol new geo...</td>\n",
       "      <td>120</td>\n",
       "      <td>[swissgeol, ngm, geology, viewer, swissgeol, n...</td>\n",
       "      <td>[(swissgeol, ngm), (ngm, geology), (geology, v...</td>\n",
       "      <td>[(swissgeol, ngm, geology), (ngm, geology, vie...</td>\n",
       "    </tr>\n",
       "    <tr>\n",
       "      <th>4</th>\n",
       "      <td>Python</td>\n",
       "      <td>geomodeldweb generates web version geological ...</td>\n",
       "      <td>174</td>\n",
       "      <td>[geomodeldweb, generates, web, version, geolog...</td>\n",
       "      <td>[(geomodeldweb, generates), (generates, web), ...</td>\n",
       "      <td>[(geomodeldweb, generates, web), (generates, w...</td>\n",
       "    </tr>\n",
       "    <tr>\n",
       "      <th>6</th>\n",
       "      <td>Jupyter Notebook</td>\n",
       "      <td>automatic rock core sample marker know marking...</td>\n",
       "      <td>47</td>\n",
       "      <td>[automatic, rock, core, sample, marker, know, ...</td>\n",
       "      <td>[(automatic, rock), (rock, core), (core, sampl...</td>\n",
       "      <td>[(automatic, rock, core), (rock, core, sample)...</td>\n",
       "    </tr>\n",
       "    <tr>\n",
       "      <th>7</th>\n",
       "      <td>TypeScript</td>\n",
       "      <td>geological model portal purpose nb fully devel...</td>\n",
       "      <td>329</td>\n",
       "      <td>[geological, model, portal, purpose, nb, fully...</td>\n",
       "      <td>[(geological, model), (model, portal), (portal...</td>\n",
       "      <td>[(geological, model, portal), (model, portal, ...</td>\n",
       "    </tr>\n",
       "    <tr>\n",
       "      <th>8</th>\n",
       "      <td>Jupyter Notebook</td>\n",
       "      <td>hylite hylite opensource python package prepro...</td>\n",
       "      <td>300</td>\n",
       "      <td>[hylite, hylite, opensource, python, package, ...</td>\n",
       "      <td>[(hylite, hylite), (hylite, opensource), (open...</td>\n",
       "      <td>[(hylite, hylite, opensource), (hylite, openso...</td>\n",
       "    </tr>\n",
       "    <tr>\n",
       "      <th>9</th>\n",
       "      <td>Python</td>\n",
       "      <td>webviz subsurface live demo application introd...</td>\n",
       "      <td>261</td>\n",
       "      <td>[webviz, subsurface, live, demo, application, ...</td>\n",
       "      <td>[(webviz, subsurface), (subsurface, live), (li...</td>\n",
       "      <td>[(webviz, subsurface, live), (subsurface, live...</td>\n",
       "    </tr>\n",
       "    <tr>\n",
       "      <th>10</th>\n",
       "      <td>R</td>\n",
       "      <td>reforester reforester r program us logistic bi...</td>\n",
       "      <td>771</td>\n",
       "      <td>[reforester, reforesterprogram, us, logistic, ...</td>\n",
       "      <td>[(reforester, reforester), (reforester, r), (r...</td>\n",
       "      <td>[(reforester, reforester, r), (reforester, r, ...</td>\n",
       "    </tr>\n",
       "    <tr>\n",
       "      <th>11</th>\n",
       "      <td>JavaScript</td>\n",
       "      <td>swissgeol ngm geology viewer swissgeol new geo...</td>\n",
       "      <td>120</td>\n",
       "      <td>[swissgeol, ngm, geology, viewer, swissgeol, n...</td>\n",
       "      <td>[(swissgeol, ngm), (ngm, geology), (geology, v...</td>\n",
       "      <td>[(swissgeol, ngm, geology), (ngm, geology, vie...</td>\n",
       "    </tr>\n",
       "    <tr>\n",
       "      <th>12</th>\n",
       "      <td>Python</td>\n",
       "      <td>geomodeldweb generates web version geological ...</td>\n",
       "      <td>174</td>\n",
       "      <td>[geomodeldweb, generates, web, version, geolog...</td>\n",
       "      <td>[(geomodeldweb, generates), (generates, web), ...</td>\n",
       "      <td>[(geomodeldweb, generates, web), (generates, w...</td>\n",
       "    </tr>\n",
       "    <tr>\n",
       "      <th>14</th>\n",
       "      <td>Jupyter Notebook</td>\n",
       "      <td>automatic rock core sample marker know marking...</td>\n",
       "      <td>47</td>\n",
       "      <td>[automatic, rock, core, sample, marker, know, ...</td>\n",
       "      <td>[(automatic, rock), (rock, core), (core, sampl...</td>\n",
       "      <td>[(automatic, rock, core), (rock, core, sample)...</td>\n",
       "    </tr>\n",
       "    <tr>\n",
       "      <th>15</th>\n",
       "      <td>TypeScript</td>\n",
       "      <td>geological model portal purpose nb fully devel...</td>\n",
       "      <td>329</td>\n",
       "      <td>[geological, model, portal, purpose, nb, fully...</td>\n",
       "      <td>[(geological, model), (model, portal), (portal...</td>\n",
       "      <td>[(geological, model, portal), (model, portal, ...</td>\n",
       "    </tr>\n",
       "    <tr>\n",
       "      <th>16</th>\n",
       "      <td>Jupyter Notebook</td>\n",
       "      <td>hylite hylite opensource python package prepro...</td>\n",
       "      <td>300</td>\n",
       "      <td>[hylite, hylite, opensource, python, package, ...</td>\n",
       "      <td>[(hylite, hylite), (hylite, opensource), (open...</td>\n",
       "      <td>[(hylite, hylite, opensource), (hylite, openso...</td>\n",
       "    </tr>\n",
       "    <tr>\n",
       "      <th>17</th>\n",
       "      <td>Python</td>\n",
       "      <td>webviz subsurface live demo application introd...</td>\n",
       "      <td>261</td>\n",
       "      <td>[webviz, subsurface, live, demo, application, ...</td>\n",
       "      <td>[(webviz, subsurface), (subsurface, live), (li...</td>\n",
       "      <td>[(webviz, subsurface, live), (subsurface, live...</td>\n",
       "    </tr>\n",
       "    <tr>\n",
       "      <th>18</th>\n",
       "      <td>R</td>\n",
       "      <td>reforester reforester r program us logistic bi...</td>\n",
       "      <td>771</td>\n",
       "      <td>[reforester, reforesterprogram, us, logistic, ...</td>\n",
       "      <td>[(reforester, reforester), (reforester, r), (r...</td>\n",
       "      <td>[(reforester, reforester, r), (reforester, r, ...</td>\n",
       "    </tr>\n",
       "    <tr>\n",
       "      <th>19</th>\n",
       "      <td>JavaScript</td>\n",
       "      <td>swissgeol ngm geology viewer swissgeol new geo...</td>\n",
       "      <td>120</td>\n",
       "      <td>[swissgeol, ngm, geology, viewer, swissgeol, n...</td>\n",
       "      <td>[(swissgeol, ngm), (ngm, geology), (geology, v...</td>\n",
       "      <td>[(swissgeol, ngm, geology), (ngm, geology, vie...</td>\n",
       "    </tr>\n",
       "    <tr>\n",
       "      <th>20</th>\n",
       "      <td>Python</td>\n",
       "      <td>geomodeldweb generates web version geological ...</td>\n",
       "      <td>174</td>\n",
       "      <td>[geomodeldweb, generates, web, version, geolog...</td>\n",
       "      <td>[(geomodeldweb, generates), (generates, web), ...</td>\n",
       "      <td>[(geomodeldweb, generates, web), (generates, w...</td>\n",
       "    </tr>\n",
       "    <tr>\n",
       "      <th>22</th>\n",
       "      <td>Jupyter Notebook</td>\n",
       "      <td>automatic rock core sample marker know marking...</td>\n",
       "      <td>47</td>\n",
       "      <td>[automatic, rock, core, sample, marker, know, ...</td>\n",
       "      <td>[(automatic, rock), (rock, core), (core, sampl...</td>\n",
       "      <td>[(automatic, rock, core), (rock, core, sample)...</td>\n",
       "    </tr>\n",
       "  </tbody>\n",
       "</table>\n",
       "</div>"
      ],
      "text/plain": [
       "            language                                      text_filtered  \\\n",
       "0   Jupyter Notebook  hylite hylite opensource python package prepro...   \n",
       "1             Python  webviz subsurface live demo application introd...   \n",
       "2                  R  reforester reforester r program us logistic bi...   \n",
       "3         JavaScript  swissgeol ngm geology viewer swissgeol new geo...   \n",
       "4             Python  geomodeldweb generates web version geological ...   \n",
       "6   Jupyter Notebook  automatic rock core sample marker know marking...   \n",
       "7         TypeScript  geological model portal purpose nb fully devel...   \n",
       "8   Jupyter Notebook  hylite hylite opensource python package prepro...   \n",
       "9             Python  webviz subsurface live demo application introd...   \n",
       "10                 R  reforester reforester r program us logistic bi...   \n",
       "11        JavaScript  swissgeol ngm geology viewer swissgeol new geo...   \n",
       "12            Python  geomodeldweb generates web version geological ...   \n",
       "14  Jupyter Notebook  automatic rock core sample marker know marking...   \n",
       "15        TypeScript  geological model portal purpose nb fully devel...   \n",
       "16  Jupyter Notebook  hylite hylite opensource python package prepro...   \n",
       "17            Python  webviz subsurface live demo application introd...   \n",
       "18                 R  reforester reforester r program us logistic bi...   \n",
       "19        JavaScript  swissgeol ngm geology viewer swissgeol new geo...   \n",
       "20            Python  geomodeldweb generates web version geological ...   \n",
       "22  Jupyter Notebook  automatic rock core sample marker know marking...   \n",
       "\n",
       "    doc_length                                              words  \\\n",
       "0          300  [hylite, hylite, opensource, python, package, ...   \n",
       "1          261  [webviz, subsurface, live, demo, application, ...   \n",
       "2          771  [reforester, reforesterprogram, us, logistic, ...   \n",
       "3          120  [swissgeol, ngm, geology, viewer, swissgeol, n...   \n",
       "4          174  [geomodeldweb, generates, web, version, geolog...   \n",
       "6           47  [automatic, rock, core, sample, marker, know, ...   \n",
       "7          329  [geological, model, portal, purpose, nb, fully...   \n",
       "8          300  [hylite, hylite, opensource, python, package, ...   \n",
       "9          261  [webviz, subsurface, live, demo, application, ...   \n",
       "10         771  [reforester, reforesterprogram, us, logistic, ...   \n",
       "11         120  [swissgeol, ngm, geology, viewer, swissgeol, n...   \n",
       "12         174  [geomodeldweb, generates, web, version, geolog...   \n",
       "14          47  [automatic, rock, core, sample, marker, know, ...   \n",
       "15         329  [geological, model, portal, purpose, nb, fully...   \n",
       "16         300  [hylite, hylite, opensource, python, package, ...   \n",
       "17         261  [webviz, subsurface, live, demo, application, ...   \n",
       "18         771  [reforester, reforesterprogram, us, logistic, ...   \n",
       "19         120  [swissgeol, ngm, geology, viewer, swissgeol, n...   \n",
       "20         174  [geomodeldweb, generates, web, version, geolog...   \n",
       "22          47  [automatic, rock, core, sample, marker, know, ...   \n",
       "\n",
       "                                              bigrams  \\\n",
       "0   [(hylite, hylite), (hylite, opensource), (open...   \n",
       "1   [(webviz, subsurface), (subsurface, live), (li...   \n",
       "2   [(reforester, reforester), (reforester, r), (r...   \n",
       "3   [(swissgeol, ngm), (ngm, geology), (geology, v...   \n",
       "4   [(geomodeldweb, generates), (generates, web), ...   \n",
       "6   [(automatic, rock), (rock, core), (core, sampl...   \n",
       "7   [(geological, model), (model, portal), (portal...   \n",
       "8   [(hylite, hylite), (hylite, opensource), (open...   \n",
       "9   [(webviz, subsurface), (subsurface, live), (li...   \n",
       "10  [(reforester, reforester), (reforester, r), (r...   \n",
       "11  [(swissgeol, ngm), (ngm, geology), (geology, v...   \n",
       "12  [(geomodeldweb, generates), (generates, web), ...   \n",
       "14  [(automatic, rock), (rock, core), (core, sampl...   \n",
       "15  [(geological, model), (model, portal), (portal...   \n",
       "16  [(hylite, hylite), (hylite, opensource), (open...   \n",
       "17  [(webviz, subsurface), (subsurface, live), (li...   \n",
       "18  [(reforester, reforester), (reforester, r), (r...   \n",
       "19  [(swissgeol, ngm), (ngm, geology), (geology, v...   \n",
       "20  [(geomodeldweb, generates), (generates, web), ...   \n",
       "22  [(automatic, rock), (rock, core), (core, sampl...   \n",
       "\n",
       "                                             trigrams  \n",
       "0   [(hylite, hylite, opensource), (hylite, openso...  \n",
       "1   [(webviz, subsurface, live), (subsurface, live...  \n",
       "2   [(reforester, reforester, r), (reforester, r, ...  \n",
       "3   [(swissgeol, ngm, geology), (ngm, geology, vie...  \n",
       "4   [(geomodeldweb, generates, web), (generates, w...  \n",
       "6   [(automatic, rock, core), (rock, core, sample)...  \n",
       "7   [(geological, model, portal), (model, portal, ...  \n",
       "8   [(hylite, hylite, opensource), (hylite, openso...  \n",
       "9   [(webviz, subsurface, live), (subsurface, live...  \n",
       "10  [(reforester, reforester, r), (reforester, r, ...  \n",
       "11  [(swissgeol, ngm, geology), (ngm, geology, vie...  \n",
       "12  [(geomodeldweb, generates, web), (generates, w...  \n",
       "14  [(automatic, rock, core), (rock, core, sample)...  \n",
       "15  [(geological, model, portal), (model, portal, ...  \n",
       "16  [(hylite, hylite, opensource), (hylite, openso...  \n",
       "17  [(webviz, subsurface, live), (subsurface, live...  \n",
       "18  [(reforester, reforester, r), (reforester, r, ...  \n",
       "19  [(swissgeol, ngm, geology), (ngm, geology, vie...  \n",
       "20  [(geomodeldweb, generates, web), (generates, w...  \n",
       "22  [(automatic, rock, core), (rock, core, sample)...  "
      ]
     },
     "execution_count": 4,
     "metadata": {},
     "output_type": "execute_result"
    }
   ],
   "source": [
    "df = clean_data(df)\n",
    "df.head(20)"
   ]
  },
  {
   "cell_type": "code",
   "execution_count": 5,
   "metadata": {},
   "outputs": [
    {
     "data": {
      "text/plain": [
       "Python              463\n",
       "Jupyter Notebook    460\n",
       "R                   232\n",
       "JavaScript          229\n",
       "TypeScript          229\n",
       "Name: language, dtype: int64"
      ]
     },
     "execution_count": 5,
     "metadata": {},
     "output_type": "execute_result"
    }
   ],
   "source": [
    "df.language.value_counts()"
   ]
  },
  {
   "cell_type": "code",
   "execution_count": 6,
   "metadata": {},
   "outputs": [
    {
     "data": {
      "text/plain": [
       "language         0\n",
       "text_filtered    0\n",
       "doc_length       0\n",
       "words            0\n",
       "bigrams          0\n",
       "trigrams         0\n",
       "dtype: int64"
      ]
     },
     "execution_count": 6,
     "metadata": {},
     "output_type": "execute_result"
    }
   ],
   "source": [
    "df.isnull().sum()"
   ]
  },
  {
   "cell_type": "markdown",
   "metadata": {},
   "source": [
    "<div class=\"alert alert-block alert-info\"><b></b></div>"
   ]
  },
  {
   "cell_type": "markdown",
   "metadata": {},
   "source": [
    "***\n",
    "## Hypothesis: \n",
    "`In the dicipline of Geology, specific programing languages are used for specific tasks.  In a dataset with 6 specific programing languages there should be 6 specific content groups identified using topic modeling\n",
    "***"
   ]
  },
  {
   "cell_type": "markdown",
   "metadata": {},
   "source": [
    "<div class=\"alert alert-block alert-info\"><b></b></div>"
   ]
  },
  {
   "cell_type": "markdown",
   "metadata": {},
   "source": [
    "## Topic Modeling:\n",
    "\n",
    "Topic modeling is an unsupervised technique that intends to analyze large volumes of text data by clustering the documents into groups. In the case of topic modeling, the text data do not have any labels attached to it. Rather, topic modeling tries to group the documents into clusters based on similar characteristics.\n",
    "\n",
    "A typical example of topic modeling is clustering a large number of newspaper articles that belong to the same category. In other words, cluster documents that have the same topic. It is important to mention here that it is extremely difficult to evaluate the performance of topic modeling since there are no right answers. It depends upon the user to find similar characteristics between the documents of one cluster and assign it an appropriate label or topic."
   ]
  },
  {
   "cell_type": "markdown",
   "metadata": {},
   "source": [
    "### Latent Dirichlet Allocation (LDA)\n",
    "\n",
    "The LDA is based upon two general assumptions:\n",
    "\n",
    "    Documents that have similar words usually have the same topic\n",
    "    Documents that have groups of words frequently occurring together usually have the same topic.\n",
    "\n",
    "These assumptions make sense because the documents that have the same topic, for instance, Business topics will have words like the \"economy\", \"profit\", \"the stock market\", \"loss\", etc. The second assumption states that if these words frequently occur together in multiple documents, those documents may belong to the same category.\n",
    "\n",
    "Mathematically, the above two assumptions can be represented as:\n",
    "\n",
    "    Documents are probability distributions over latent topics\n",
    "    Topics are probability distributions over words\n"
   ]
  },
  {
   "cell_type": "markdown",
   "metadata": {},
   "source": [
    "<div class=\"alert alert-block alert-info\"><b></b></div>"
   ]
  },
  {
   "cell_type": "markdown",
   "metadata": {},
   "source": [
    "#### Topic Modeling: Step One (Applying LDA)\n",
    "\n",
    "`Before we can apply LDA, we need to create vocabulary of all the words in our data. Remember from the previous article, we could do so with the help of a count vectorizer.`"
   ]
  },
  {
   "cell_type": "code",
   "execution_count": 7,
   "metadata": {},
   "outputs": [
    {
     "data": {
      "text/plain": [
       "<1613x886 sparse matrix of type '<class 'numpy.int64'>'\n",
       "\twith 257395 stored elements in Compressed Sparse Row format>"
      ]
     },
     "execution_count": 7,
     "metadata": {},
     "output_type": "execute_result"
    }
   ],
   "source": [
    "from sklearn.feature_extraction.text import CountVectorizer\n",
    "\n",
    "count_vect = CountVectorizer(max_df=0.8, min_df=2, stop_words='english')\n",
    "doc_term_matrix = count_vect.fit_transform(df['text_filtered'].values.astype('U'))\n",
    "doc_term_matrix"
   ]
  },
  {
   "cell_type": "markdown",
   "metadata": {},
   "source": [
    "`Each of 2k documents is represented as 1066 dimensional vector, which means that our vocabulary has 1066 words.`"
   ]
  },
  {
   "cell_type": "code",
   "execution_count": 8,
   "metadata": {},
   "outputs": [
    {
     "data": {
      "text/plain": [
       "LatentDirichletAllocation(n_components=5, random_state=42)"
      ]
     },
     "execution_count": 8,
     "metadata": {},
     "output_type": "execute_result"
    }
   ],
   "source": [
    "from sklearn.decomposition import LatentDirichletAllocation\n",
    "\n",
    "LDA = LatentDirichletAllocation(n_components=5, random_state=42)\n",
    "LDA.fit(doc_term_matrix)"
   ]
  },
  {
   "cell_type": "markdown",
   "metadata": {},
   "source": [
    "`In the script above we use the LatentDirichletAllocation class from the sklearn.decomposition library to perform LDA on our document-term matrix. The parameter n_components specifies the number of categories, or topics, that we want our text to be divided into. The parameter random_state (aka the seed) is set to 42 so that you get similar results each time.`\n",
    "\n",
    "`Let's randomly fetch words from our vocabulary. We know that the count vectorizer contains all the words in our vocabulary. We can use the get_feature_names() method and pass it the ID of the word that we want to fetch.`"
   ]
  },
  {
   "cell_type": "code",
   "execution_count": 9,
   "metadata": {},
   "outputs": [
    {
     "name": "stdout",
     "output_type": "stream",
     "text": [
      "nodejs\n",
      "nvclkit\n",
      "potential\n",
      "mainuniformsamplingr\n",
      "zone\n",
      "viewer\n",
      "probability\n",
      "correction\n",
      "wa\n",
      "better\n"
     ]
    }
   ],
   "source": [
    "import random\n",
    "\n",
    "for i in range(10):\n",
    "    random_id = random.randint(0,len(count_vect.get_feature_names()))\n",
    "    print(count_vect.get_feature_names()[random_id])"
   ]
  },
  {
   "cell_type": "markdown",
   "metadata": {},
   "source": [
    "`Let's find 10 words with the highest probability for the first topic. To get the first topic, you can use the components_ attribute and pass a 0 index as the value`\n",
    "\n",
    "`The first topic contains the probabilities of 14546 words for topic To sort the indexes according to probability values, we can use the argsort() function. Once sorted, the 10 words with the highest probabilities will now belong to the last 10 indexes of the array. The following script returns the indexes of the 10 words with the highest probabilities:`"
   ]
  },
  {
   "cell_type": "code",
   "execution_count": 10,
   "metadata": {},
   "outputs": [
    {
     "data": {
      "text/plain": [
       "array([439,  95, 838, 561, 868, 639, 215, 492, 313, 268])"
      ]
     },
     "execution_count": 10,
     "metadata": {},
     "output_type": "execute_result"
    }
   ],
   "source": [
    "first_topic = LDA.components_[0]\n",
    "top_topic_words = first_topic.argsort()[-10:]\n",
    "top_topic_words"
   ]
  },
  {
   "cell_type": "markdown",
   "metadata": {},
   "source": [
    "`These indexes can then be used to retrieve the value of the words from the count_vect object, which can be done like this`"
   ]
  },
  {
   "cell_type": "code",
   "execution_count": 11,
   "metadata": {},
   "outputs": [
    {
     "name": "stdout",
     "output_type": "stream",
     "text": [
      "library\n",
      "clone\n",
      "use\n",
      "parameter\n",
      "website\n",
      "readme\n",
      "documentation\n",
      "model\n",
      "gocad\n",
      "file\n"
     ]
    }
   ],
   "source": [
    "for i in top_topic_words:\n",
    "    print(count_vect.get_feature_names()[i])"
   ]
  },
  {
   "cell_type": "markdown",
   "metadata": {},
   "source": [
    "`Let's print the 10 words with highest probabilities for all the five topics:`"
   ]
  },
  {
   "cell_type": "code",
   "execution_count": 12,
   "metadata": {},
   "outputs": [
    {
     "name": "stdout",
     "output_type": "stream",
     "text": [
      "Top 10 words for topic #0:\n",
      "['library', 'clone', 'use', 'parameter', 'website', 'readme', 'documentation', 'model', 'gocad', 'file']\n",
      "\n",
      "\n",
      "Top 10 words for topic #1:\n",
      "['web', 'use', 'service', 'api', 'npm', 'server', 'directory', 'start', 'model', 'file']\n",
      "\n",
      "\n",
      "Top 10 words for topic #2:\n",
      "['subsurface', 'container', 'pip', 'check', 'install', 'application', 'github', 'run', 'repository', 'test']\n",
      "\n",
      "\n",
      "Top 10 words for topic #3:\n",
      "['tree', 'diversity', 'rate', 'data', 'time', 'using', 'sampling', 'simulation', 'run', 'fossil']\n",
      "\n",
      "\n",
      "Top 10 words for topic #4:\n",
      "['directory', 'library', 'using', 'gdal', 'spectral', 'import', 'python', 'data', 'install', 'hylite']\n",
      "\n",
      "\n"
     ]
    }
   ],
   "source": [
    "for i,topic in enumerate(LDA.components_):\n",
    "    print(f'Top 10 words for topic #{i}:')\n",
    "    print([count_vect.get_feature_names()[i] for i in topic.argsort()[-10:]])\n",
    "    print('\\n')"
   ]
  },
  {
   "cell_type": "markdown",
   "metadata": {},
   "source": [
    "`As a final step, we will add a column to the original data frame that will store the topic for the text. To do so, we can use LDA.transform() method and pass it our document-term matrix. This method will assign the probability of all the topics to each document. Look at the following code:`"
   ]
  },
  {
   "cell_type": "code",
   "execution_count": 14,
   "metadata": {},
   "outputs": [
    {
     "data": {
      "text/plain": [
       "(1613, 5)"
      ]
     },
     "execution_count": 14,
     "metadata": {},
     "output_type": "execute_result"
    }
   ],
   "source": [
    "topic_values = LDA.transform(doc_term_matrix)\n",
    "topic_values.shape"
   ]
  },
  {
   "cell_type": "markdown",
   "metadata": {},
   "source": [
    "`n the output, you will see (20000, 5) which means that each of the document has 5 columns where each column corresponds to the probability value of a particular topic. To find the topic index with maximum value, we can call the argmax() method and pass 1 as the value for the axis parameter.`\n",
    "\n",
    "`The following script adds a new column for topic in the data frame and assigns the topic value to each row in the column:`"
   ]
  },
  {
   "cell_type": "code",
   "execution_count": 15,
   "metadata": {},
   "outputs": [
    {
     "data": {
      "text/html": [
       "<div>\n",
       "<style scoped>\n",
       "    .dataframe tbody tr th:only-of-type {\n",
       "        vertical-align: middle;\n",
       "    }\n",
       "\n",
       "    .dataframe tbody tr th {\n",
       "        vertical-align: top;\n",
       "    }\n",
       "\n",
       "    .dataframe thead th {\n",
       "        text-align: right;\n",
       "    }\n",
       "</style>\n",
       "<table border=\"1\" class=\"dataframe\">\n",
       "  <thead>\n",
       "    <tr style=\"text-align: right;\">\n",
       "      <th></th>\n",
       "      <th>language</th>\n",
       "      <th>text_filtered</th>\n",
       "      <th>doc_length</th>\n",
       "      <th>words</th>\n",
       "      <th>bigrams</th>\n",
       "      <th>trigrams</th>\n",
       "      <th>Topic</th>\n",
       "    </tr>\n",
       "  </thead>\n",
       "  <tbody>\n",
       "    <tr>\n",
       "      <th>0</th>\n",
       "      <td>Jupyter Notebook</td>\n",
       "      <td>hylite hylite opensource python package prepro...</td>\n",
       "      <td>300</td>\n",
       "      <td>[hylite, hylite, opensource, python, package, ...</td>\n",
       "      <td>[(hylite, hylite), (hylite, opensource), (open...</td>\n",
       "      <td>[(hylite, hylite, opensource), (hylite, openso...</td>\n",
       "      <td>4</td>\n",
       "    </tr>\n",
       "    <tr>\n",
       "      <th>1</th>\n",
       "      <td>Python</td>\n",
       "      <td>webviz subsurface live demo application introd...</td>\n",
       "      <td>261</td>\n",
       "      <td>[webviz, subsurface, live, demo, application, ...</td>\n",
       "      <td>[(webviz, subsurface), (subsurface, live), (li...</td>\n",
       "      <td>[(webviz, subsurface, live), (subsurface, live...</td>\n",
       "      <td>2</td>\n",
       "    </tr>\n",
       "    <tr>\n",
       "      <th>2</th>\n",
       "      <td>R</td>\n",
       "      <td>reforester reforester r program us logistic bi...</td>\n",
       "      <td>771</td>\n",
       "      <td>[reforester, reforesterprogram, us, logistic, ...</td>\n",
       "      <td>[(reforester, reforester), (reforester, r), (r...</td>\n",
       "      <td>[(reforester, reforester, r), (reforester, r, ...</td>\n",
       "      <td>3</td>\n",
       "    </tr>\n",
       "    <tr>\n",
       "      <th>3</th>\n",
       "      <td>JavaScript</td>\n",
       "      <td>swissgeol ngm geology viewer swissgeol new geo...</td>\n",
       "      <td>120</td>\n",
       "      <td>[swissgeol, ngm, geology, viewer, swissgeol, n...</td>\n",
       "      <td>[(swissgeol, ngm), (ngm, geology), (geology, v...</td>\n",
       "      <td>[(swissgeol, ngm, geology), (ngm, geology, vie...</td>\n",
       "      <td>1</td>\n",
       "    </tr>\n",
       "    <tr>\n",
       "      <th>4</th>\n",
       "      <td>Python</td>\n",
       "      <td>geomodeldweb generates web version geological ...</td>\n",
       "      <td>174</td>\n",
       "      <td>[geomodeldweb, generates, web, version, geolog...</td>\n",
       "      <td>[(geomodeldweb, generates), (generates, web), ...</td>\n",
       "      <td>[(geomodeldweb, generates, web), (generates, w...</td>\n",
       "      <td>0</td>\n",
       "    </tr>\n",
       "  </tbody>\n",
       "</table>\n",
       "</div>"
      ],
      "text/plain": [
       "           language                                      text_filtered  \\\n",
       "0  Jupyter Notebook  hylite hylite opensource python package prepro...   \n",
       "1            Python  webviz subsurface live demo application introd...   \n",
       "2                 R  reforester reforester r program us logistic bi...   \n",
       "3        JavaScript  swissgeol ngm geology viewer swissgeol new geo...   \n",
       "4            Python  geomodeldweb generates web version geological ...   \n",
       "\n",
       "   doc_length                                              words  \\\n",
       "0         300  [hylite, hylite, opensource, python, package, ...   \n",
       "1         261  [webviz, subsurface, live, demo, application, ...   \n",
       "2         771  [reforester, reforesterprogram, us, logistic, ...   \n",
       "3         120  [swissgeol, ngm, geology, viewer, swissgeol, n...   \n",
       "4         174  [geomodeldweb, generates, web, version, geolog...   \n",
       "\n",
       "                                             bigrams  \\\n",
       "0  [(hylite, hylite), (hylite, opensource), (open...   \n",
       "1  [(webviz, subsurface), (subsurface, live), (li...   \n",
       "2  [(reforester, reforester), (reforester, r), (r...   \n",
       "3  [(swissgeol, ngm), (ngm, geology), (geology, v...   \n",
       "4  [(geomodeldweb, generates), (generates, web), ...   \n",
       "\n",
       "                                            trigrams  Topic  \n",
       "0  [(hylite, hylite, opensource), (hylite, openso...      4  \n",
       "1  [(webviz, subsurface, live), (subsurface, live...      2  \n",
       "2  [(reforester, reforester, r), (reforester, r, ...      3  \n",
       "3  [(swissgeol, ngm, geology), (ngm, geology, vie...      1  \n",
       "4  [(geomodeldweb, generates, web), (generates, w...      0  "
      ]
     },
     "execution_count": 15,
     "metadata": {},
     "output_type": "execute_result"
    }
   ],
   "source": [
    "df['Topic'] = topic_values.argmax(axis=1)\n",
    "df.head()"
   ]
  },
  {
   "cell_type": "markdown",
   "metadata": {},
   "source": [
    "***"
   ]
  },
  {
   "cell_type": "markdown",
   "metadata": {},
   "source": [
    "#### Create wordlist for visualization"
   ]
  },
  {
   "cell_type": "code",
   "execution_count": 34,
   "metadata": {},
   "outputs": [],
   "source": [
    "t0_words = ' '.join(df[df.Topic ==0].text_filtered)\n",
    "t1_words = ' '.join(df[df.Topic ==1].text_filtered)\n",
    "t2_words = ' '.join(df[df.Topic ==2].text_filtered)\n",
    "t3_words = ' '.join(df[df.Topic ==3].text_filtered)\n",
    "t4_words = ' '.join(df[df.Topic ==4].text_filtered)"
   ]
  },
  {
   "cell_type": "markdown",
   "metadata": {},
   "source": [
    "***"
   ]
  },
  {
   "cell_type": "markdown",
   "metadata": {},
   "source": [
    "#### Topic 0"
   ]
  },
  {
   "cell_type": "code",
   "execution_count": 19,
   "metadata": {},
   "outputs": [
    {
     "data": {
      "text/plain": [
       "Python    231\n",
       "Name: language, dtype: int64"
      ]
     },
     "execution_count": 19,
     "metadata": {},
     "output_type": "execute_result"
    }
   ],
   "source": [
    "topic0 =df[df.Topic == 0]\n",
    "topic0.language.value_counts()"
   ]
  },
  {
   "cell_type": "markdown",
   "metadata": {},
   "source": [
    "#### Wordcloud Topic 0"
   ]
  },
  {
   "cell_type": "code",
   "execution_count": 36,
   "metadata": {},
   "outputs": [
    {
     "data": {
      "image/png": "[encoded data removed]",
      "text/plain": [
       "<Figure size 432x288 with 1 Axes>"
      ]
     },
     "metadata": {
      "needs_background": "light"
     },
     "output_type": "display_data"
    }
   ],
   "source": [
    "img = WordCloud(background_color='white').generate(t0_words)\n",
    "plt.imshow(img)\n",
    "plt.axis('off')\n",
    "plt.show()"
   ]
  },
  {
   "cell_type": "markdown",
   "metadata": {},
   "source": [
    "***"
   ]
  },
  {
   "cell_type": "markdown",
   "metadata": {},
   "source": [
    "#### Topic 1"
   ]
  },
  {
   "cell_type": "code",
   "execution_count": 25,
   "metadata": {},
   "outputs": [
    {
     "data": {
      "text/plain": [
       "TypeScript    229\n",
       "JavaScript    229\n",
       "Name: language, dtype: int64"
      ]
     },
     "execution_count": 25,
     "metadata": {},
     "output_type": "execute_result"
    }
   ],
   "source": [
    "topic1 =df[df.Topic == 1]\n",
    "topic1.language.value_counts()"
   ]
  },
  {
   "cell_type": "code",
   "execution_count": null,
   "metadata": {},
   "outputs": [],
   "source": []
  },
  {
   "cell_type": "code",
   "execution_count": null,
   "metadata": {},
   "outputs": [],
   "source": []
  },
  {
   "cell_type": "markdown",
   "metadata": {},
   "source": [
    "***"
   ]
  },
  {
   "cell_type": "markdown",
   "metadata": {},
   "source": [
    "#### Topic 2"
   ]
  },
  {
   "cell_type": "code",
   "execution_count": 24,
   "metadata": {},
   "outputs": [
    {
     "data": {
      "text/plain": [
       "Python    232\n",
       "Name: language, dtype: int64"
      ]
     },
     "execution_count": 24,
     "metadata": {},
     "output_type": "execute_result"
    }
   ],
   "source": [
    "topic2 =df[df.Topic == 2]\n",
    "topic2.language.value_counts()"
   ]
  },
  {
   "cell_type": "code",
   "execution_count": null,
   "metadata": {},
   "outputs": [],
   "source": []
  },
  {
   "cell_type": "code",
   "execution_count": null,
   "metadata": {},
   "outputs": [],
   "source": []
  },
  {
   "cell_type": "markdown",
   "metadata": {},
   "source": [
    "***"
   ]
  },
  {
   "cell_type": "markdown",
   "metadata": {},
   "source": [
    "#### Topic 3"
   ]
  },
  {
   "cell_type": "code",
   "execution_count": 23,
   "metadata": {},
   "outputs": [
    {
     "data": {
      "text/plain": [
       "R                   232\n",
       "Jupyter Notebook    228\n",
       "Name: language, dtype: int64"
      ]
     },
     "execution_count": 23,
     "metadata": {},
     "output_type": "execute_result"
    }
   ],
   "source": [
    "topic3 =df[df.Topic == 3]\n",
    "topic3.language.value_counts()"
   ]
  },
  {
   "cell_type": "code",
   "execution_count": null,
   "metadata": {},
   "outputs": [],
   "source": []
  },
  {
   "cell_type": "code",
   "execution_count": null,
   "metadata": {},
   "outputs": [],
   "source": []
  },
  {
   "cell_type": "markdown",
   "metadata": {},
   "source": [
    "***"
   ]
  },
  {
   "cell_type": "markdown",
   "metadata": {},
   "source": [
    "#### Topic 4"
   ]
  },
  {
   "cell_type": "code",
   "execution_count": 26,
   "metadata": {},
   "outputs": [
    {
     "data": {
      "text/plain": [
       "Jupyter Notebook    232\n",
       "Name: language, dtype: int64"
      ]
     },
     "execution_count": 26,
     "metadata": {},
     "output_type": "execute_result"
    }
   ],
   "source": [
    "topic4 =df[df.Topic == 4]\n",
    "topic4.language.value_counts()"
   ]
  },
  {
   "cell_type": "code",
   "execution_count": null,
   "metadata": {},
   "outputs": [],
   "source": []
  },
  {
   "cell_type": "code",
   "execution_count": null,
   "metadata": {},
   "outputs": [],
   "source": []
  },
  {
   "cell_type": "markdown",
   "metadata": {},
   "source": [
    "***"
   ]
  },
  {
   "cell_type": "markdown",
   "metadata": {},
   "source": [
    "#### Takeaway:\n",
    "Appears to be too many groups to correctly identify language, redo with 3 groups"
   ]
  },
  {
   "cell_type": "markdown",
   "metadata": {},
   "source": [
    "<div class=\"alert alert-block alert-info\"><b></b></div>"
   ]
  },
  {
   "cell_type": "markdown",
   "metadata": {},
   "source": [
    "## Three Groups (Trial)"
   ]
  },
  {
   "cell_type": "code",
   "execution_count": 29,
   "metadata": {},
   "outputs": [
    {
     "data": {
      "text/html": [
       "<div>\n",
       "<style scoped>\n",
       "    .dataframe tbody tr th:only-of-type {\n",
       "        vertical-align: middle;\n",
       "    }\n",
       "\n",
       "    .dataframe tbody tr th {\n",
       "        vertical-align: top;\n",
       "    }\n",
       "\n",
       "    .dataframe thead th {\n",
       "        text-align: right;\n",
       "    }\n",
       "</style>\n",
       "<table border=\"1\" class=\"dataframe\">\n",
       "  <thead>\n",
       "    <tr style=\"text-align: right;\">\n",
       "      <th></th>\n",
       "      <th>language</th>\n",
       "      <th>text_filtered</th>\n",
       "      <th>doc_length</th>\n",
       "      <th>words</th>\n",
       "      <th>bigrams</th>\n",
       "      <th>trigrams</th>\n",
       "      <th>Topic</th>\n",
       "    </tr>\n",
       "  </thead>\n",
       "  <tbody>\n",
       "    <tr>\n",
       "      <th>0</th>\n",
       "      <td>Jupyter Notebook</td>\n",
       "      <td>hylite hylite opensource python package prepro...</td>\n",
       "      <td>300</td>\n",
       "      <td>[hylite, hylite, opensource, python, package, ...</td>\n",
       "      <td>[(hylite, hylite), (hylite, opensource), (open...</td>\n",
       "      <td>[(hylite, hylite, opensource), (hylite, openso...</td>\n",
       "      <td>1</td>\n",
       "    </tr>\n",
       "    <tr>\n",
       "      <th>1</th>\n",
       "      <td>Python</td>\n",
       "      <td>webviz subsurface live demo application introd...</td>\n",
       "      <td>261</td>\n",
       "      <td>[webviz, subsurface, live, demo, application, ...</td>\n",
       "      <td>[(webviz, subsurface), (subsurface, live), (li...</td>\n",
       "      <td>[(webviz, subsurface, live), (subsurface, live...</td>\n",
       "      <td>2</td>\n",
       "    </tr>\n",
       "    <tr>\n",
       "      <th>2</th>\n",
       "      <td>R</td>\n",
       "      <td>reforester reforester r program us logistic bi...</td>\n",
       "      <td>771</td>\n",
       "      <td>[reforester, reforesterprogram, us, logistic, ...</td>\n",
       "      <td>[(reforester, reforester), (reforester, r), (r...</td>\n",
       "      <td>[(reforester, reforester, r), (reforester, r, ...</td>\n",
       "      <td>2</td>\n",
       "    </tr>\n",
       "    <tr>\n",
       "      <th>3</th>\n",
       "      <td>JavaScript</td>\n",
       "      <td>swissgeol ngm geology viewer swissgeol new geo...</td>\n",
       "      <td>120</td>\n",
       "      <td>[swissgeol, ngm, geology, viewer, swissgeol, n...</td>\n",
       "      <td>[(swissgeol, ngm), (ngm, geology), (geology, v...</td>\n",
       "      <td>[(swissgeol, ngm, geology), (ngm, geology, vie...</td>\n",
       "      <td>1</td>\n",
       "    </tr>\n",
       "    <tr>\n",
       "      <th>4</th>\n",
       "      <td>Python</td>\n",
       "      <td>geomodeldweb generates web version geological ...</td>\n",
       "      <td>174</td>\n",
       "      <td>[geomodeldweb, generates, web, version, geolog...</td>\n",
       "      <td>[(geomodeldweb, generates), (generates, web), ...</td>\n",
       "      <td>[(geomodeldweb, generates, web), (generates, w...</td>\n",
       "      <td>0</td>\n",
       "    </tr>\n",
       "  </tbody>\n",
       "</table>\n",
       "</div>"
      ],
      "text/plain": [
       "           language                                      text_filtered  \\\n",
       "0  Jupyter Notebook  hylite hylite opensource python package prepro...   \n",
       "1            Python  webviz subsurface live demo application introd...   \n",
       "2                 R  reforester reforester r program us logistic bi...   \n",
       "3        JavaScript  swissgeol ngm geology viewer swissgeol new geo...   \n",
       "4            Python  geomodeldweb generates web version geological ...   \n",
       "\n",
       "   doc_length                                              words  \\\n",
       "0         300  [hylite, hylite, opensource, python, package, ...   \n",
       "1         261  [webviz, subsurface, live, demo, application, ...   \n",
       "2         771  [reforester, reforesterprogram, us, logistic, ...   \n",
       "3         120  [swissgeol, ngm, geology, viewer, swissgeol, n...   \n",
       "4         174  [geomodeldweb, generates, web, version, geolog...   \n",
       "\n",
       "                                             bigrams  \\\n",
       "0  [(hylite, hylite), (hylite, opensource), (open...   \n",
       "1  [(webviz, subsurface), (subsurface, live), (li...   \n",
       "2  [(reforester, reforester), (reforester, r), (r...   \n",
       "3  [(swissgeol, ngm), (ngm, geology), (geology, v...   \n",
       "4  [(geomodeldweb, generates), (generates, web), ...   \n",
       "\n",
       "                                            trigrams  Topic  \n",
       "0  [(hylite, hylite, opensource), (hylite, openso...      1  \n",
       "1  [(webviz, subsurface, live), (subsurface, live...      2  \n",
       "2  [(reforester, reforester, r), (reforester, r, ...      2  \n",
       "3  [(swissgeol, ngm, geology), (ngm, geology, vie...      1  \n",
       "4  [(geomodeldweb, generates, web), (generates, w...      0  "
      ]
     },
     "execution_count": 29,
     "metadata": {},
     "output_type": "execute_result"
    }
   ],
   "source": [
    "df = acquire.get_github_geology_results(cached=True)\n",
    "df = clean_data(df)\n",
    "count_vect = CountVectorizer(max_df=0.8, min_df=2, stop_words='english')\n",
    "doc_term_matrix = count_vect.fit_transform(df['text_filtered'].values.astype('U'))\n",
    "LDA = LatentDirichletAllocation(n_components=3, random_state=42)\n",
    "LDA.fit(doc_term_matrix)\n",
    "topic_values = LDA.transform(doc_term_matrix)\n",
    "df['Topic'] = topic_values.argmax(axis=1)\n",
    "df.head()"
   ]
  },
  {
   "cell_type": "code",
   "execution_count": 30,
   "metadata": {},
   "outputs": [
    {
     "data": {
      "text/plain": [
       "Python    231\n",
       "Name: language, dtype: int64"
      ]
     },
     "execution_count": 30,
     "metadata": {},
     "output_type": "execute_result"
    }
   ],
   "source": [
    "#Topic 0\n",
    "topic0 =df[df.Topic == 0]\n",
    "topic0.language.value_counts()"
   ]
  },
  {
   "cell_type": "code",
   "execution_count": 31,
   "metadata": {},
   "outputs": [
    {
     "data": {
      "text/plain": [
       "Jupyter Notebook    232\n",
       "TypeScript          229\n",
       "JavaScript          229\n",
       "Name: language, dtype: int64"
      ]
     },
     "execution_count": 31,
     "metadata": {},
     "output_type": "execute_result"
    }
   ],
   "source": [
    "#Topic 1\n",
    "topic1 =df[df.Topic == 1]\n",
    "topic1.language.value_counts()"
   ]
  },
  {
   "cell_type": "code",
   "execution_count": 32,
   "metadata": {},
   "outputs": [
    {
     "data": {
      "text/plain": [
       "R                   232\n",
       "Python              232\n",
       "Jupyter Notebook    228\n",
       "Name: language, dtype: int64"
      ]
     },
     "execution_count": 32,
     "metadata": {},
     "output_type": "execute_result"
    }
   ],
   "source": [
    "#Topic 2\n",
    "topic2 =df[df.Topic == 2]\n",
    "topic2.language.value_counts()"
   ]
  },
  {
   "cell_type": "code",
   "execution_count": null,
   "metadata": {},
   "outputs": [],
   "source": []
  }
 ],
 "metadata": {
  "kernelspec": {
   "display_name": "Python 3",
   "language": "python",
   "name": "python3"
  },
  "language_info": {
   "codemirror_mode": {
    "name": "ipython",
    "version": 3
   },
   "file_extension": ".py",
   "mimetype": "text/x-python",
   "name": "python",
   "nbconvert_exporter": "python",
   "pygments_lexer": "ipython3",
   "version": "3.8.5"
  }
 },
 "nbformat": 4,
 "nbformat_minor": 4
}
