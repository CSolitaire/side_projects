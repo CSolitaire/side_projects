{
 "cells": [
  {
   "cell_type": "code",
   "execution_count": null,
   "metadata": {},
   "outputs": [],
   "source": [
    "import requests\n",
    "from bs4 import BeautifulSoup\n",
    "\n",
    "\n",
    "URL = \"https://www.monster.com/jobs/search/?q=Software-Developer\\\n",
    "        &where=Australia\"\n",
    "page = requests.get(URL)\n",
    "\n",
    "soup = BeautifulSoup(page.content, \"html.parser\")\n",
    "results = soup.find(id=\"ResultsContainer\")\n",
    "\n",
    "# Look for Python jobs\n",
    "python_jobs = results.find_all(\"h2\", string=lambda t: \"python\" in t.lower())\n",
    "for p_job in python_jobs:\n",
    "    link = p_job.find(\"a\")[\"href\"]\n",
    "    print(p_job.text.strip())\n",
    "    print(f\"Apply here: {link}\\n\")\n",
    "\n",
    "# Print out all available jobs from the scraped webpage\n",
    "job_elems = results.find_all(\"section\", class_=\"card-content\")\n",
    "for job_elem in job_elems:\n",
    "    title_elem = job_elem.find(\"h2\", class_=\"title\")\n",
    "    company_elem = job_elem.find(\"div\", class_=\"company\")\n",
    "    location_elem = job_elem.find(\"div\", class_=\"location\")\n",
    "    if None in (title_elem, company_elem, location_elem):\n",
    "        continue\n",
    "    print(title_elem.text.strip())\n",
    "    print(company_elem.text.strip())\n",
    "    print(location_elem.text.strip())\n",
    "    print()"
   ]
  }
 ],
 "metadata": {
  "kernelspec": {
   "display_name": "Python 3",
   "language": "python",
   "name": "python3"
  },
  "language_info": {
   "codemirror_mode": {
    "name": "ipython",
    "version": 3
   },
   "file_extension": ".py",
   "mimetype": "text/x-python",
   "name": "python",
   "nbconvert_exporter": "python",
   "pygments_lexer": "ipython3",
   "version": "3.8.3"
  }
 },
 "nbformat": 4,
 "nbformat_minor": 4
}
