{
 "cells": [
  {
   "cell_type": "markdown",
   "metadata": {},
   "source": [
    "## Imports"
   ]
  },
  {
   "cell_type": "code",
   "execution_count": 1,
   "metadata": {},
   "outputs": [],
   "source": [
    "# Imports\n",
    "\n",
    "import pandas as pd\n",
    "import numpy as np\n",
    "import acquire\n",
    "import prepare\n",
    "import explore\n",
    "from statistics import mean\n",
    "\n",
    "\n",
    "\n",
    "import re\n",
    "import unicodedata\n",
    "import pandas as pd\n",
    "import nltk\n",
    "\n",
    "import prepare\n",
    "import acquire\n",
    "\n",
    "from nltk.tokenize.toktok import ToktokTokenizer\n",
    "from nltk.corpus import stopwords\n",
    "from wordcloud import WordCloud\n",
    "\n",
    "\n",
    "%matplotlib inline\n",
    "import matplotlib.pyplot as plt\n",
    "import seaborn as sns\n",
    "\n"
   ]
  },
  {
   "cell_type": "markdown",
   "metadata": {},
   "source": [
    "## Call In DF"
   ]
  },
  {
   "cell_type": "code",
   "execution_count": 2,
   "metadata": {},
   "outputs": [
    {
     "name": "stdout",
     "output_type": "stream",
     "text": [
      "<class 'pandas.core.frame.DataFrame'>\n",
      "Int64Index: 1841 entries, 0 to 1840\n",
      "Data columns (total 3 columns):\n",
      " #   Column    Non-Null Count  Dtype         \n",
      "---  ------    --------------  -----         \n",
      " 0   language  1841 non-null   object        \n",
      " 1   content   1841 non-null   object        \n",
      " 2   date      1841 non-null   datetime64[ns]\n",
      "dtypes: datetime64[ns](1), object(2)\n",
      "memory usage: 57.5+ KB\n",
      "None\n"
     ]
    },
    {
     "data": {
      "text/html": [
       "<div>\n",
       "<style scoped>\n",
       "    .dataframe tbody tr th:only-of-type {\n",
       "        vertical-align: middle;\n",
       "    }\n",
       "\n",
       "    .dataframe tbody tr th {\n",
       "        vertical-align: top;\n",
       "    }\n",
       "\n",
       "    .dataframe thead th {\n",
       "        text-align: right;\n",
       "    }\n",
       "</style>\n",
       "<table border=\"1\" class=\"dataframe\">\n",
       "  <thead>\n",
       "    <tr style=\"text-align: right;\">\n",
       "      <th></th>\n",
       "      <th>language</th>\n",
       "      <th>content</th>\n",
       "      <th>date</th>\n",
       "    </tr>\n",
       "  </thead>\n",
       "  <tbody>\n",
       "    <tr>\n",
       "      <th>0</th>\n",
       "      <td>Jupyter Notebook</td>\n",
       "      <td>hylite\\nhylite is an open-source python packag...</td>\n",
       "      <td>2020-11-27 17:31:07.762</td>\n",
       "    </tr>\n",
       "    <tr>\n",
       "      <th>1</th>\n",
       "      <td>Python</td>\n",
       "      <td>\\n\\n\\n\\n\\n\\nWebviz subsurface\\n\\n✨👓 Live demo ...</td>\n",
       "      <td>2020-11-27 17:31:08.305</td>\n",
       "    </tr>\n",
       "    <tr>\n",
       "      <th>2</th>\n",
       "      <td>R</td>\n",
       "      <td>Reforester\\nReforester, an R program that:\\n\\n...</td>\n",
       "      <td>2020-11-27 17:31:08.926</td>\n",
       "    </tr>\n",
       "    <tr>\n",
       "      <th>3</th>\n",
       "      <td>JavaScript</td>\n",
       "      <td>Swissgeol NGM\\nA Geology 3D viewer\\nSwissgeol ...</td>\n",
       "      <td>2020-11-27 17:31:09.532</td>\n",
       "    </tr>\n",
       "    <tr>\n",
       "      <th>4</th>\n",
       "      <td>Python</td>\n",
       "      <td>geomodel-2-3dweb\\n\\nGenerates 3D web versions ...</td>\n",
       "      <td>2020-11-27 17:31:10.206</td>\n",
       "    </tr>\n",
       "  </tbody>\n",
       "</table>\n",
       "</div>"
      ],
      "text/plain": [
       "           language                                            content  \\\n",
       "0  Jupyter Notebook  hylite\\nhylite is an open-source python packag...   \n",
       "1            Python  \\n\\n\\n\\n\\n\\nWebviz subsurface\\n\\n✨👓 Live demo ...   \n",
       "2                 R  Reforester\\nReforester, an R program that:\\n\\n...   \n",
       "3        JavaScript  Swissgeol NGM\\nA Geology 3D viewer\\nSwissgeol ...   \n",
       "4            Python  geomodel-2-3dweb\\n\\nGenerates 3D web versions ...   \n",
       "\n",
       "                     date  \n",
       "0 2020-11-27 17:31:07.762  \n",
       "1 2020-11-27 17:31:08.305  \n",
       "2 2020-11-27 17:31:08.926  \n",
       "3 2020-11-27 17:31:09.532  \n",
       "4 2020-11-27 17:31:10.206  "
      ]
     },
     "execution_count": 2,
     "metadata": {},
     "output_type": "execute_result"
    }
   ],
   "source": [
    "df = acquire.get_github_geology_results(cached=True)\n",
    "print(df.info())\n",
    "df.head()"
   ]
  },
  {
   "cell_type": "code",
   "execution_count": 3,
   "metadata": {},
   "outputs": [
    {
     "data": {
      "text/plain": [
       "Python              463\n",
       "Jupyter Notebook    460\n",
       "R                   232\n",
       "TypeScript          229\n",
       "JavaScript          229\n",
       "Batchfile           228\n",
       "Name: language, dtype: int64"
      ]
     },
     "execution_count": 3,
     "metadata": {},
     "output_type": "execute_result"
    }
   ],
   "source": [
    "df.language.value_counts()"
   ]
  },
  {
   "cell_type": "code",
   "execution_count": 4,
   "metadata": {},
   "outputs": [],
   "source": [
    "## Extra Word List\n",
    "#[\"accuracy\",\"accurate\",\"acknowledgement\",\"acquired\",\n",
    "#     \"adhere\",\"adheres\",\"along\",\"also\",\"accessing\",\"provided\",\n",
    "#     \"directory\", \"datasets\",\"including\",\"pip\",\"problem\",\"pull\",\n",
    "#     \"python\"]"
   ]
  },
  {
   "cell_type": "code",
   "execution_count": 5,
   "metadata": {},
   "outputs": [
    {
     "name": "stdout",
     "output_type": "stream",
     "text": [
      "<class 'pandas.core.frame.DataFrame'>\n",
      "Int64Index: 1841 entries, 0 to 1840\n",
      "Data columns (total 8 columns):\n",
      " #   Column      Non-Null Count  Dtype         \n",
      "---  ------      --------------  -----         \n",
      " 0   language    1841 non-null   object        \n",
      " 1   content     1841 non-null   object        \n",
      " 2   date        1841 non-null   datetime64[ns]\n",
      " 3   clean       1841 non-null   object        \n",
      " 4   stemmed     1841 non-null   object        \n",
      " 5   lemmatized  1841 non-null   object        \n",
      " 6   words       1841 non-null   object        \n",
      " 7   doc_length  1841 non-null   int64         \n",
      "dtypes: datetime64[ns](1), int64(1), object(6)\n",
      "memory usage: 129.4+ KB\n",
      "None\n"
     ]
    },
    {
     "data": {
      "text/html": [
       "<div>\n",
       "<style scoped>\n",
       "    .dataframe tbody tr th:only-of-type {\n",
       "        vertical-align: middle;\n",
       "    }\n",
       "\n",
       "    .dataframe tbody tr th {\n",
       "        vertical-align: top;\n",
       "    }\n",
       "\n",
       "    .dataframe thead th {\n",
       "        text-align: right;\n",
       "    }\n",
       "</style>\n",
       "<table border=\"1\" class=\"dataframe\">\n",
       "  <thead>\n",
       "    <tr style=\"text-align: right;\">\n",
       "      <th></th>\n",
       "      <th>language</th>\n",
       "      <th>content</th>\n",
       "      <th>date</th>\n",
       "      <th>clean</th>\n",
       "      <th>stemmed</th>\n",
       "      <th>lemmatized</th>\n",
       "      <th>words</th>\n",
       "      <th>doc_length</th>\n",
       "    </tr>\n",
       "  </thead>\n",
       "  <tbody>\n",
       "    <tr>\n",
       "      <th>0</th>\n",
       "      <td>Jupyter Notebook</td>\n",
       "      <td>hylite\\nhylite is an open-source python packag...</td>\n",
       "      <td>2020-11-27 17:31:07.762</td>\n",
       "      <td>hylite hylite opensource python package prepro...</td>\n",
       "      <td>hylit hylit opensourc python packag preprocess...</td>\n",
       "      <td>hylite hylite opensource python package prepro...</td>\n",
       "      <td>[hylite, hylite, opensource, python, package, ...</td>\n",
       "      <td>293</td>\n",
       "    </tr>\n",
       "    <tr>\n",
       "      <th>1</th>\n",
       "      <td>Python</td>\n",
       "      <td>\\n\\n\\n\\n\\n\\nWebviz subsurface\\n\\n✨👓 Live demo ...</td>\n",
       "      <td>2020-11-27 17:31:08.305</td>\n",
       "      <td>webviz subsurface live demo application introd...</td>\n",
       "      <td>webviz subsurfac live demo applic introduct re...</td>\n",
       "      <td>webviz subsurface live demo application introd...</td>\n",
       "      <td>[webviz, subsurface, live, demo, application, ...</td>\n",
       "      <td>261</td>\n",
       "    </tr>\n",
       "    <tr>\n",
       "      <th>2</th>\n",
       "      <td>R</td>\n",
       "      <td>Reforester\\nReforester, an R program that:\\n\\n...</td>\n",
       "      <td>2020-11-27 17:31:08.926</td>\n",
       "      <td>reforester reforester r program uses logistic ...</td>\n",
       "      <td>reforest reforest r program use logist birthde...</td>\n",
       "      <td>reforester reforester r program us logistic bi...</td>\n",
       "      <td>[reforester, reforesterprogram, us, logistic, ...</td>\n",
       "      <td>762</td>\n",
       "    </tr>\n",
       "    <tr>\n",
       "      <th>3</th>\n",
       "      <td>JavaScript</td>\n",
       "      <td>Swissgeol NGM\\nA Geology 3D viewer\\nSwissgeol ...</td>\n",
       "      <td>2020-11-27 17:31:09.532</td>\n",
       "      <td>swissgeol ngm geology viewer swissgeol new geo...</td>\n",
       "      <td>swissgeol ngm geolog viewer swissgeol new geol...</td>\n",
       "      <td>swissgeol ngm geology viewer swissgeol new geo...</td>\n",
       "      <td>[swissgeol, ngm, geology, viewer, swissgeol, n...</td>\n",
       "      <td>120</td>\n",
       "    </tr>\n",
       "    <tr>\n",
       "      <th>4</th>\n",
       "      <td>Python</td>\n",
       "      <td>geomodel-2-3dweb\\n\\nGenerates 3D web versions ...</td>\n",
       "      <td>2020-11-27 17:31:10.206</td>\n",
       "      <td>geomodeldweb generates web versions geological...</td>\n",
       "      <td>geomodeldweb gener web version geolog model pr...</td>\n",
       "      <td>geomodeldweb generates web version geological ...</td>\n",
       "      <td>[geomodeldweb, generates, web, version, geolog...</td>\n",
       "      <td>169</td>\n",
       "    </tr>\n",
       "  </tbody>\n",
       "</table>\n",
       "</div>"
      ],
      "text/plain": [
       "           language                                            content  \\\n",
       "0  Jupyter Notebook  hylite\\nhylite is an open-source python packag...   \n",
       "1            Python  \\n\\n\\n\\n\\n\\nWebviz subsurface\\n\\n✨👓 Live demo ...   \n",
       "2                 R  Reforester\\nReforester, an R program that:\\n\\n...   \n",
       "3        JavaScript  Swissgeol NGM\\nA Geology 3D viewer\\nSwissgeol ...   \n",
       "4            Python  geomodel-2-3dweb\\n\\nGenerates 3D web versions ...   \n",
       "\n",
       "                     date                                              clean  \\\n",
       "0 2020-11-27 17:31:07.762  hylite hylite opensource python package prepro...   \n",
       "1 2020-11-27 17:31:08.305  webviz subsurface live demo application introd...   \n",
       "2 2020-11-27 17:31:08.926  reforester reforester r program uses logistic ...   \n",
       "3 2020-11-27 17:31:09.532  swissgeol ngm geology viewer swissgeol new geo...   \n",
       "4 2020-11-27 17:31:10.206  geomodeldweb generates web versions geological...   \n",
       "\n",
       "                                             stemmed  \\\n",
       "0  hylit hylit opensourc python packag preprocess...   \n",
       "1  webviz subsurfac live demo applic introduct re...   \n",
       "2  reforest reforest r program use logist birthde...   \n",
       "3  swissgeol ngm geolog viewer swissgeol new geol...   \n",
       "4  geomodeldweb gener web version geolog model pr...   \n",
       "\n",
       "                                          lemmatized  \\\n",
       "0  hylite hylite opensource python package prepro...   \n",
       "1  webviz subsurface live demo application introd...   \n",
       "2  reforester reforester r program us logistic bi...   \n",
       "3  swissgeol ngm geology viewer swissgeol new geo...   \n",
       "4  geomodeldweb generates web version geological ...   \n",
       "\n",
       "                                               words  doc_length  \n",
       "0  [hylite, hylite, opensource, python, package, ...         293  \n",
       "1  [webviz, subsurface, live, demo, application, ...         261  \n",
       "2  [reforester, reforesterprogram, us, logistic, ...         762  \n",
       "3  [swissgeol, ngm, geology, viewer, swissgeol, n...         120  \n",
       "4  [geomodeldweb, generates, web, version, geolog...         169  "
      ]
     },
     "execution_count": 5,
     "metadata": {},
     "output_type": "execute_result"
    }
   ],
   "source": [
    "#Clean\n",
    "df = prepare.prep_data(df, 'content', extra_words=[], exclude_words=[])\n",
    "print(df.info())\n",
    "df.head()"
   ]
  },
  {
   "cell_type": "code",
   "execution_count": 6,
   "metadata": {},
   "outputs": [
    {
     "data": {
      "text/plain": [
       "Python              463\n",
       "Jupyter Notebook    460\n",
       "R                   232\n",
       "TypeScript          229\n",
       "JavaScript          229\n",
       "Batchfile           228\n",
       "Name: language, dtype: int64"
      ]
     },
     "execution_count": 6,
     "metadata": {},
     "output_type": "execute_result"
    }
   ],
   "source": [
    "df.language.value_counts()"
   ]
  },
  {
   "cell_type": "markdown",
   "metadata": {},
   "source": [
    "## Ave Length of Readme"
   ]
  },
  {
   "cell_type": "code",
   "execution_count": 7,
   "metadata": {},
   "outputs": [
    {
     "name": "stdout",
     "output_type": "stream",
     "text": [
      "The average word length of the python repositories is 215.1\n",
      "The average word length of the jupyter repositories is 170.57\n",
      "The average word length of the r repositories is 762\n",
      "The average word length of the javascript repositories is 120\n",
      "The average word length of the typescript repositories is 290\n",
      "The average word length of the batchfile repositories is 303\n"
     ]
    }
   ],
   "source": [
    "python_doc_length = round(mean(df[df.language == 'Python'].doc_length), 2)\n",
    "jupyter_doc_length = round(mean(df[df.language == 'Jupyter Notebook'].doc_length),2)\n",
    "r_doc_length = round(mean(df[df.language == 'R'].doc_length),2)\n",
    "javascript_doc_length = round(mean(df[df.language == 'JavaScript'].doc_length),2)\n",
    "typescript_doc_length = round(mean(df[df.language == 'TypeScript'].doc_length),2)\n",
    "batchfile_doc_length = round(mean(df[df.language == 'Batchfile'].doc_length),2)\n",
    "\n",
    "print(f'The average length of the python repositories is {python_doc_length} words')\n",
    "print(f'The average length of the jupyter repositories is {jupyter_doc_length} words')\n",
    "print(f'The average length of the r repositories is {r_doc_length} words')\n",
    "print(f'The average word length of the javascript repositories is {javascript_doc_length} words')\n",
    "print(f'The average word length of the typescript repositories is {typescript_doc_length} words')\n",
    "print(f'The average word length of the batchfile repositories is {batchfile_doc_length} words')"
   ]
  },
  {
   "cell_type": "markdown",
   "metadata": {},
   "source": [
    "## Explore List of Words"
   ]
  },
  {
   "cell_type": "code",
   "execution_count": 8,
   "metadata": {},
   "outputs": [],
   "source": [
    "# Create list of words\n",
    "python_words = ' '.join(df[df.language=='Python'].lemmatized)\n",
    "jupyter_words = ' '.join(df[df.language=='Jupyter Notebook'].lemmatized)\n",
    "r_words = ' '.join(df[df.language=='R'].lemmatized)\n",
    "typescript_words = ' '.join(df[df.language=='TypeScript'].lemmatized)\n",
    "javascript_words = ' '.join(df[df.language=='JavaScript'].lemmatized)\n",
    "batchfile_words = ' '.join(df[df.language=='Batchfile'].lemmatized)\n",
    "all_words = ' '.join(df.lemmatized)\n",
    "\n",
    "# remove spaces\n",
    "python_words = re.sub(r'\\s.\\s', '', python_words)\n",
    "jupyter_words = re.sub(r'\\s.\\s', '', jupyter_words)\n",
    "r_words = re.sub(r'\\s.\\s', '', r_words)\n",
    "typescript_words = re.sub(r'\\s.\\s', '', typescript_words)\n",
    "javascript_words = re.sub(r'\\s.\\s', '', javascript_words)\n",
    "batchfile_words = re.sub(r'\\s.\\s', '', batchfile_words)\n",
    "all_words = re.sub(r'\\s.\\s', '', all_words)"
   ]
  },
  {
   "cell_type": "code",
   "execution_count": 9,
   "metadata": {},
   "outputs": [],
   "source": [
    "# wordcounts\n",
    "\n",
    "python_freq = pd.Series(python_words.split()).value_counts()\n",
    "jupyter_freq = pd.Series(jupyter_words.split()).value_counts()\n",
    "r_freq = pd.Series(r_words.split()).value_counts()\n",
    "typescript_freq = pd.Series(typescript_words.split()).value_counts()\n",
    "javascript_freq = pd.Series(javascript_words.split()).value_counts()\n",
    "batchfile_freq = pd.Series(batchfile_words.split()).value_counts()\n",
    "all_freq = pd.Series(all_words.split()).value_counts()"
   ]
  },
  {
   "cell_type": "markdown",
   "metadata": {},
   "source": [
    "## What repositories detail work in Geology"
   ]
  },
  {
   "cell_type": "code",
   "execution_count": 10,
   "metadata": {},
   "outputs": [
    {
     "data": {
      "text/plain": [
       "file                2776\n",
       "test                1392\n",
       "repository          1391\n",
       "code                1391\n",
       "see                 1390\n",
       "documentation       1389\n",
       "run                 1159\n",
       "also                1159\n",
       "install             1159\n",
       "gocad               1155\n",
       "check                928\n",
       "configuration        928\n",
       "subsurface           928\n",
       "webvizsubsurface     928\n",
       "github               928\n",
       "webviz               928\n",
       "registry             928\n",
       "container            928\n",
       "pip                  928\n",
       "application          928\n",
       "dtype: int64"
      ]
     },
     "execution_count": 10,
     "metadata": {},
     "output_type": "execute_result"
    }
   ],
   "source": [
    "# No geology keywords in top 20 most frequent words\n",
    "python_freq.head(20)"
   ]
  },
  {
   "cell_type": "code",
   "execution_count": 11,
   "metadata": {},
   "outputs": [
    {
     "data": {
      "text/plain": [
       "hylite          4176\n",
       "install         2088\n",
       "data            1392\n",
       "python          1392\n",
       "import          1160\n",
       "also            1160\n",
       "gdal            1160\n",
       "spectral        1160\n",
       "using           1152\n",
       "please           928\n",
       "installation     696\n",
       "conda            696\n",
       "minimum          696\n",
       "mapping          696\n",
       "pip              696\n",
       "wavelength       696\n",
       "directory        696\n",
       "github           696\n",
       "variety          696\n",
       "library          696\n",
       "dtype: int64"
      ]
     },
     "execution_count": 11,
     "metadata": {},
     "output_type": "execute_result"
    }
   ],
   "source": [
    "# Several geology keywords in to 20\n",
    "jupyter_freq.head(20)"
   ]
  },
  {
   "cell_type": "code",
   "execution_count": 12,
   "metadata": {},
   "outputs": [
    {
     "data": {
      "text/plain": [
       "fossil           4408\n",
       "simulation       3016\n",
       "run              3016\n",
       "sampling         3016\n",
       "using            2552\n",
       "diversity        2320\n",
       "rate             2320\n",
       "data             2320\n",
       "tree             2088\n",
       "time             2088\n",
       "file             1856\n",
       "reconstructed    1624\n",
       "model            1624\n",
       "true             1624\n",
       "result           1392\n",
       "license          1392\n",
       "record           1392\n",
       "bias             1160\n",
       "could            1160\n",
       "number           1160\n",
       "dtype: int64"
      ]
     },
     "execution_count": 12,
     "metadata": {},
     "output_type": "execute_result"
    }
   ],
   "source": [
    "# many geology keywords in top 20\n",
    "r_freq.head(20)"
   ]
  },
  {
   "cell_type": "code",
   "execution_count": 13,
   "metadata": {},
   "outputs": [
    {
     "data": {
      "text/plain": [
       "file             2977\n",
       "model            2748\n",
       "start            1832\n",
       "server           1603\n",
       "service          1145\n",
       "see              1145\n",
       "website           916\n",
       "graphic           916\n",
       "conversion        916\n",
       "npm               916\n",
       "web               916\n",
       "provides          916\n",
       "information       687\n",
       "readmemd          687\n",
       "python            687\n",
       "adding            687\n",
       "config            687\n",
       "httplocalhost     687\n",
       "nvcl              687\n",
       "borehole          687\n",
       "dtype: int64"
      ]
     },
     "execution_count": 13,
     "metadata": {},
     "output_type": "execute_result"
    }
   ],
   "source": [
    "# No geology Content\n",
    "typescript_freq.head(20)"
   ]
  },
  {
   "cell_type": "code",
   "execution_count": 14,
   "metadata": {},
   "outputs": [
    {
     "data": {
      "text/plain": [
       "use          687\n",
       "viewer       687\n",
       "see          687\n",
       "open         687\n",
       "swisstopo    687\n",
       "url          458\n",
       "lava         458\n",
       "source       458\n",
       "npm          458\n",
       "disable      458\n",
       "limit        458\n",
       "display      458\n",
       "cesium       458\n",
       "define       458\n",
       "parameter    458\n",
       "quality      458\n",
       "swissgeol    458\n",
       "ngm          458\n",
       "geology      458\n",
       "version      458\n",
       "dtype: int64"
      ]
     },
     "execution_count": 14,
     "metadata": {},
     "output_type": "execute_result"
    }
   ],
   "source": [
    "# many geology references\n",
    "javascript_freq.head(20) "
   ]
  },
  {
   "cell_type": "code",
   "execution_count": 15,
   "metadata": {},
   "outputs": [
    {
     "data": {
      "text/plain": [
       "de               7752\n",
       "la               2280\n",
       "en               1824\n",
       "curso            1368\n",
       "el               1368\n",
       "del              1140\n",
       "mapas            1140\n",
       "web               912\n",
       "por               912\n",
       "crear             912\n",
       "disponibles       912\n",
       "utilizacion       684\n",
       "grillas           684\n",
       "para              684\n",
       "partir            684\n",
       "datos             684\n",
       "contenido         456\n",
       "argentina         456\n",
       "multitematica     456\n",
       "se                456\n",
       "dtype: int64"
      ]
     },
     "execution_count": 15,
     "metadata": {},
     "output_type": "execute_result"
    }
   ],
   "source": [
    "# All in spannish, not so helpful to me\n",
    "batchfile_freq.head(20)"
   ]
  },
  {
   "cell_type": "code",
   "execution_count": 16,
   "metadata": {},
   "outputs": [
    {
     "data": {
      "text/plain": [
       "de            7752\n",
       "file          7609\n",
       "model         5296\n",
       "fossil        4408\n",
       "run           4404\n",
       "hylite        4176\n",
       "data          4173\n",
       "using         4168\n",
       "see           3918\n",
       "install       3705\n",
       "sampling      3016\n",
       "simulation    3016\n",
       "also          3012\n",
       "time          2544\n",
       "code          2544\n",
       "python        2542\n",
       "rate          2320\n",
       "diversity     2320\n",
       "script        2304\n",
       "start         2293\n",
       "dtype: int64"
      ]
     },
     "execution_count": 16,
     "metadata": {},
     "output_type": "execute_result"
    }
   ],
   "source": [
    "all_freq.head(20)"
   ]
  },
  {
   "cell_type": "markdown",
   "metadata": {},
   "source": [
    "***\n",
    "### Focus on Repositories That have Geology Content\n",
    " \n",
    " - `No`: Python, Typescrpt, Batchfile   \n",
    " \n",
    " - `Yes`: Jupyter, R, Javascript   \n",
    "\n",
    "***"
   ]
  },
  {
   "cell_type": "code",
   "execution_count": 17,
   "metadata": {},
   "outputs": [
    {
     "data": {
      "text/html": [
       "<div>\n",
       "<style scoped>\n",
       "    .dataframe tbody tr th:only-of-type {\n",
       "        vertical-align: middle;\n",
       "    }\n",
       "\n",
       "    .dataframe tbody tr th {\n",
       "        vertical-align: top;\n",
       "    }\n",
       "\n",
       "    .dataframe thead th {\n",
       "        text-align: right;\n",
       "    }\n",
       "</style>\n",
       "<table border=\"1\" class=\"dataframe\">\n",
       "  <thead>\n",
       "    <tr style=\"text-align: right;\">\n",
       "      <th></th>\n",
       "      <th>jupyter</th>\n",
       "      <th>r</th>\n",
       "      <th>javascript</th>\n",
       "    </tr>\n",
       "  </thead>\n",
       "  <tbody>\n",
       "    <tr>\n",
       "      <th>accessing</th>\n",
       "      <td>0</td>\n",
       "      <td>232</td>\n",
       "      <td>0</td>\n",
       "    </tr>\n",
       "    <tr>\n",
       "      <th>according</th>\n",
       "      <td>0</td>\n",
       "      <td>232</td>\n",
       "      <td>0</td>\n",
       "    </tr>\n",
       "    <tr>\n",
       "      <th>account</th>\n",
       "      <td>0</td>\n",
       "      <td>232</td>\n",
       "      <td>0</td>\n",
       "    </tr>\n",
       "    <tr>\n",
       "      <th>accuracy</th>\n",
       "      <td>228</td>\n",
       "      <td>0</td>\n",
       "      <td>0</td>\n",
       "    </tr>\n",
       "    <tr>\n",
       "      <th>accurate</th>\n",
       "      <td>228</td>\n",
       "      <td>0</td>\n",
       "      <td>0</td>\n",
       "    </tr>\n",
       "    <tr>\n",
       "      <th>acknowledgement</th>\n",
       "      <td>0</td>\n",
       "      <td>464</td>\n",
       "      <td>0</td>\n",
       "    </tr>\n",
       "    <tr>\n",
       "      <th>acquired</th>\n",
       "      <td>232</td>\n",
       "      <td>0</td>\n",
       "      <td>0</td>\n",
       "    </tr>\n",
       "    <tr>\n",
       "      <th>across</th>\n",
       "      <td>0</td>\n",
       "      <td>232</td>\n",
       "      <td>0</td>\n",
       "    </tr>\n",
       "    <tr>\n",
       "      <th>activate</th>\n",
       "      <td>464</td>\n",
       "      <td>0</td>\n",
       "      <td>0</td>\n",
       "    </tr>\n",
       "    <tr>\n",
       "      <th>adapt</th>\n",
       "      <td>0</td>\n",
       "      <td>0</td>\n",
       "      <td>229</td>\n",
       "    </tr>\n",
       "    <tr>\n",
       "      <th>addition</th>\n",
       "      <td>232</td>\n",
       "      <td>0</td>\n",
       "      <td>0</td>\n",
       "    </tr>\n",
       "    <tr>\n",
       "      <th>additional</th>\n",
       "      <td>0</td>\n",
       "      <td>928</td>\n",
       "      <td>229</td>\n",
       "    </tr>\n",
       "    <tr>\n",
       "      <th>adhere</th>\n",
       "      <td>0</td>\n",
       "      <td>232</td>\n",
       "      <td>0</td>\n",
       "    </tr>\n",
       "    <tr>\n",
       "      <th>adheres</th>\n",
       "      <td>0</td>\n",
       "      <td>232</td>\n",
       "      <td>0</td>\n",
       "    </tr>\n",
       "    <tr>\n",
       "      <th>age</th>\n",
       "      <td>0</td>\n",
       "      <td>232</td>\n",
       "      <td>0</td>\n",
       "    </tr>\n",
       "    <tr>\n",
       "      <th>aim</th>\n",
       "      <td>0</td>\n",
       "      <td>464</td>\n",
       "      <td>0</td>\n",
       "    </tr>\n",
       "    <tr>\n",
       "      <th>al</th>\n",
       "      <td>232</td>\n",
       "      <td>0</td>\n",
       "      <td>0</td>\n",
       "    </tr>\n",
       "    <tr>\n",
       "      <th>along</th>\n",
       "      <td>0</td>\n",
       "      <td>464</td>\n",
       "      <td>0</td>\n",
       "    </tr>\n",
       "    <tr>\n",
       "      <th>also</th>\n",
       "      <td>1160</td>\n",
       "      <td>464</td>\n",
       "      <td>0</td>\n",
       "    </tr>\n",
       "    <tr>\n",
       "      <th>alternative</th>\n",
       "      <td>0</td>\n",
       "      <td>232</td>\n",
       "      <td>0</td>\n",
       "    </tr>\n",
       "  </tbody>\n",
       "</table>\n",
       "</div>"
      ],
      "text/plain": [
       "                 jupyter    r  javascript\n",
       "accessing              0  232           0\n",
       "according              0  232           0\n",
       "account                0  232           0\n",
       "accuracy             228    0           0\n",
       "accurate             228    0           0\n",
       "acknowledgement        0  464           0\n",
       "acquired             232    0           0\n",
       "across                 0  232           0\n",
       "activate             464    0           0\n",
       "adapt                  0    0         229\n",
       "addition             232    0           0\n",
       "additional             0  928         229\n",
       "adhere                 0  232           0\n",
       "adheres                0  232           0\n",
       "age                    0  232           0\n",
       "aim                    0  464           0\n",
       "al                   232    0           0\n",
       "along                  0  464           0\n",
       "also                1160  464           0\n",
       "alternative            0  232           0"
      ]
     },
     "execution_count": 17,
     "metadata": {},
     "output_type": "execute_result"
    }
   ],
   "source": [
    "# Dataframe to compare most frequent words\n",
    "\n",
    "# word_counts = (pd.concat([all_freq, python_freq, jupyter_freq, r_freq, typescript_freq, javascript_freq, batchfile_freq], axis=1, sort=True)\n",
    "#                .set_axis(['all', 'python', 'jupyter', 'r', 'typescript', 'javascript', 'batchfile'], axis=1, inplace=False)\n",
    "#                .fillna(0)\n",
    "#                .apply(lambda s: s.astype(int))\n",
    "#               )\n",
    "\n",
    "# word_counts.head(20)\n",
    "\n",
    "word_counts = (pd.concat([jupyter_freq, r_freq, javascript_freq], axis=1, sort=True)\n",
    "               .set_axis(['jupyter', 'r', 'javascript'], axis=1, inplace=False)\n",
    "               .fillna(0)\n",
    "               .apply(lambda s: s.astype(int))\n",
    "              )\n",
    "\n",
    "word_counts.head(20)"
   ]
  },
  {
   "cell_type": "code",
   "execution_count": 18,
   "metadata": {},
   "outputs": [
    {
     "data": {
      "text/html": [
       "<div>\n",
       "<style scoped>\n",
       "    .dataframe tbody tr th:only-of-type {\n",
       "        vertical-align: middle;\n",
       "    }\n",
       "\n",
       "    .dataframe tbody tr th {\n",
       "        vertical-align: top;\n",
       "    }\n",
       "\n",
       "    .dataframe thead th {\n",
       "        text-align: right;\n",
       "    }\n",
       "</style>\n",
       "<table border=\"1\" class=\"dataframe\">\n",
       "  <thead>\n",
       "    <tr style=\"text-align: right;\">\n",
       "      <th></th>\n",
       "      <th>jupyter</th>\n",
       "      <th>r</th>\n",
       "      <th>javascript</th>\n",
       "    </tr>\n",
       "  </thead>\n",
       "  <tbody>\n",
       "    <tr>\n",
       "      <th>accessing</th>\n",
       "      <td>0</td>\n",
       "      <td>232</td>\n",
       "      <td>0</td>\n",
       "    </tr>\n",
       "    <tr>\n",
       "      <th>provided</th>\n",
       "      <td>0</td>\n",
       "      <td>696</td>\n",
       "      <td>0</td>\n",
       "    </tr>\n",
       "    <tr>\n",
       "      <th>properly</th>\n",
       "      <td>0</td>\n",
       "      <td>232</td>\n",
       "      <td>0</td>\n",
       "    </tr>\n",
       "    <tr>\n",
       "      <th>prompt</th>\n",
       "      <td>0</td>\n",
       "      <td>232</td>\n",
       "      <td>0</td>\n",
       "    </tr>\n",
       "    <tr>\n",
       "      <th>projectaim</th>\n",
       "      <td>0</td>\n",
       "      <td>232</td>\n",
       "      <td>0</td>\n",
       "    </tr>\n",
       "    <tr>\n",
       "      <th>program</th>\n",
       "      <td>0</td>\n",
       "      <td>696</td>\n",
       "      <td>0</td>\n",
       "    </tr>\n",
       "    <tr>\n",
       "      <th>produced</th>\n",
       "      <td>0</td>\n",
       "      <td>464</td>\n",
       "      <td>0</td>\n",
       "    </tr>\n",
       "    <tr>\n",
       "      <th>produce</th>\n",
       "      <td>0</td>\n",
       "      <td>464</td>\n",
       "      <td>0</td>\n",
       "    </tr>\n",
       "    <tr>\n",
       "      <th>probability</th>\n",
       "      <td>0</td>\n",
       "      <td>232</td>\n",
       "      <td>0</td>\n",
       "    </tr>\n",
       "    <tr>\n",
       "      <th>proxy</th>\n",
       "      <td>0</td>\n",
       "      <td>1160</td>\n",
       "      <td>0</td>\n",
       "    </tr>\n",
       "  </tbody>\n",
       "</table>\n",
       "</div>"
      ],
      "text/plain": [
       "             jupyter     r  javascript\n",
       "accessing          0   232           0\n",
       "provided           0   696           0\n",
       "properly           0   232           0\n",
       "prompt             0   232           0\n",
       "projectaim         0   232           0\n",
       "program            0   696           0\n",
       "produced           0   464           0\n",
       "produce            0   464           0\n",
       "probability        0   232           0\n",
       "proxy              0  1160           0"
      ]
     },
     "execution_count": 18,
     "metadata": {},
     "output_type": "execute_result"
    }
   ],
   "source": [
    "# These might be words to excude to make modeling easier\n",
    "word_counts[word_counts.javascript == word_counts.jupyter].sort_values(by='jupyter').head(10)"
   ]
  },
  {
   "cell_type": "code",
   "execution_count": 19,
   "metadata": {},
   "outputs": [
    {
     "data": {
      "text/html": [
       "<div>\n",
       "<style scoped>\n",
       "    .dataframe tbody tr th:only-of-type {\n",
       "        vertical-align: middle;\n",
       "    }\n",
       "\n",
       "    .dataframe tbody tr th {\n",
       "        vertical-align: top;\n",
       "    }\n",
       "\n",
       "    .dataframe thead th {\n",
       "        text-align: right;\n",
       "    }\n",
       "</style>\n",
       "<table border=\"1\" class=\"dataframe\">\n",
       "  <thead>\n",
       "    <tr style=\"text-align: right;\">\n",
       "      <th></th>\n",
       "      <th>jupyter</th>\n",
       "      <th>r</th>\n",
       "      <th>javascript</th>\n",
       "    </tr>\n",
       "  </thead>\n",
       "  <tbody>\n",
       "    <tr>\n",
       "      <th>directory</th>\n",
       "      <td>696</td>\n",
       "      <td>696</td>\n",
       "      <td>0</td>\n",
       "    </tr>\n",
       "    <tr>\n",
       "      <th>different</th>\n",
       "      <td>696</td>\n",
       "      <td>696</td>\n",
       "      <td>0</td>\n",
       "    </tr>\n",
       "    <tr>\n",
       "      <th>reference</th>\n",
       "      <td>232</td>\n",
       "      <td>232</td>\n",
       "      <td>0</td>\n",
       "    </tr>\n",
       "    <tr>\n",
       "      <th>analysis</th>\n",
       "      <td>232</td>\n",
       "      <td>232</td>\n",
       "      <td>0</td>\n",
       "    </tr>\n",
       "    <tr>\n",
       "      <th>need</th>\n",
       "      <td>232</td>\n",
       "      <td>232</td>\n",
       "      <td>0</td>\n",
       "    </tr>\n",
       "    <tr>\n",
       "      <th>including</th>\n",
       "      <td>232</td>\n",
       "      <td>232</td>\n",
       "      <td>0</td>\n",
       "    </tr>\n",
       "    <tr>\n",
       "      <th>datasets</th>\n",
       "      <td>232</td>\n",
       "      <td>232</td>\n",
       "      <td>0</td>\n",
       "    </tr>\n",
       "    <tr>\n",
       "      <th>nolimitfalse</th>\n",
       "      <td>0</td>\n",
       "      <td>0</td>\n",
       "      <td>229</td>\n",
       "    </tr>\n",
       "    <tr>\n",
       "      <th>ownterrainfalse</th>\n",
       "      <td>0</td>\n",
       "      <td>0</td>\n",
       "      <td>229</td>\n",
       "    </tr>\n",
       "    <tr>\n",
       "      <th>optimization</th>\n",
       "      <td>0</td>\n",
       "      <td>0</td>\n",
       "      <td>229</td>\n",
       "    </tr>\n",
       "  </tbody>\n",
       "</table>\n",
       "</div>"
      ],
      "text/plain": [
       "                 jupyter    r  javascript\n",
       "directory            696  696           0\n",
       "different            696  696           0\n",
       "reference            232  232           0\n",
       "analysis             232  232           0\n",
       "need                 232  232           0\n",
       "including            232  232           0\n",
       "datasets             232  232           0\n",
       "nolimitfalse           0    0         229\n",
       "ownterrainfalse        0    0         229\n",
       "optimization           0    0         229"
      ]
     },
     "execution_count": 19,
     "metadata": {},
     "output_type": "execute_result"
    }
   ],
   "source": [
    "#These might be words to excude to make modeling easier\n",
    "word_counts[word_counts.r == word_counts.jupyter].sort_values(by='jupyter', ascending=False).head(10)"
   ]
  },
  {
   "cell_type": "code",
   "execution_count": 20,
   "metadata": {},
   "outputs": [
    {
     "data": {
      "text/html": [
       "<div>\n",
       "<style scoped>\n",
       "    .dataframe tbody tr th:only-of-type {\n",
       "        vertical-align: middle;\n",
       "    }\n",
       "\n",
       "    .dataframe tbody tr th {\n",
       "        vertical-align: top;\n",
       "    }\n",
       "\n",
       "    .dataframe thead th {\n",
       "        text-align: right;\n",
       "    }\n",
       "</style>\n",
       "<table border=\"1\" class=\"dataframe\">\n",
       "  <thead>\n",
       "    <tr style=\"text-align: right;\">\n",
       "      <th></th>\n",
       "      <th>jupyter</th>\n",
       "      <th>r</th>\n",
       "      <th>javascript</th>\n",
       "    </tr>\n",
       "  </thead>\n",
       "  <tbody>\n",
       "    <tr>\n",
       "      <th>accuracy</th>\n",
       "      <td>228</td>\n",
       "      <td>0</td>\n",
       "      <td>0</td>\n",
       "    </tr>\n",
       "    <tr>\n",
       "      <th>pip</th>\n",
       "      <td>696</td>\n",
       "      <td>0</td>\n",
       "      <td>0</td>\n",
       "    </tr>\n",
       "    <tr>\n",
       "      <th>point</th>\n",
       "      <td>232</td>\n",
       "      <td>0</td>\n",
       "      <td>0</td>\n",
       "    </tr>\n",
       "    <tr>\n",
       "      <th>pointcloud</th>\n",
       "      <td>232</td>\n",
       "      <td>0</td>\n",
       "      <td>0</td>\n",
       "    </tr>\n",
       "    <tr>\n",
       "      <th>polymorphism</th>\n",
       "      <td>232</td>\n",
       "      <td>0</td>\n",
       "      <td>0</td>\n",
       "    </tr>\n",
       "    <tr>\n",
       "      <th>preprocessing</th>\n",
       "      <td>696</td>\n",
       "      <td>0</td>\n",
       "      <td>0</td>\n",
       "    </tr>\n",
       "    <tr>\n",
       "      <th>problem</th>\n",
       "      <td>228</td>\n",
       "      <td>0</td>\n",
       "      <td>0</td>\n",
       "    </tr>\n",
       "    <tr>\n",
       "      <th>processing</th>\n",
       "      <td>460</td>\n",
       "      <td>0</td>\n",
       "      <td>0</td>\n",
       "    </tr>\n",
       "    <tr>\n",
       "      <th>pull</th>\n",
       "      <td>232</td>\n",
       "      <td>0</td>\n",
       "      <td>0</td>\n",
       "    </tr>\n",
       "    <tr>\n",
       "      <th>python</th>\n",
       "      <td>1392</td>\n",
       "      <td>0</td>\n",
       "      <td>0</td>\n",
       "    </tr>\n",
       "  </tbody>\n",
       "</table>\n",
       "</div>"
      ],
      "text/plain": [
       "               jupyter  r  javascript\n",
       "accuracy           228  0           0\n",
       "pip                696  0           0\n",
       "point              232  0           0\n",
       "pointcloud         232  0           0\n",
       "polymorphism       232  0           0\n",
       "preprocessing      696  0           0\n",
       "problem            228  0           0\n",
       "processing         460  0           0\n",
       "pull               232  0           0\n",
       "python            1392  0           0"
      ]
     },
     "execution_count": 20,
     "metadata": {},
     "output_type": "execute_result"
    }
   ],
   "source": [
    "#These might be words to excude to make modeling easier\n",
    "word_counts[word_counts.javascript == word_counts.r].sort_values(by='r').head(10)"
   ]
  },
  {
   "cell_type": "code",
   "execution_count": 21,
   "metadata": {},
   "outputs": [
    {
     "ename": "SyntaxError",
     "evalue": "invalid syntax (<ipython-input-21-ae35d69d9408>, line 1)",
     "output_type": "error",
     "traceback": [
      "\u001b[0;36m  File \u001b[0;32m\"<ipython-input-21-ae35d69d9408>\"\u001b[0;36m, line \u001b[0;32m1\u001b[0m\n\u001b[0;31m    ***\u001b[0m\n\u001b[0m    ^\u001b[0m\n\u001b[0;31mSyntaxError\u001b[0m\u001b[0;31m:\u001b[0m invalid syntax\n"
     ]
    }
   ],
   "source": [
    "***\n",
    "\n",
    "`Removed Word List`\n",
    "1. Went back and edited clean to remove numbers\n",
    "\n",
    "[\"accuracy\",\"accurate\",\"acknowledgement\",\"acquired\",\n",
    " \"adhere\",\"adheres\",\"along\",\"also\",\"accessing\",\"provided\",\n",
    " \"directory\", \"datasets\",\"including\",\"pip\",\"problem\",\"pull\",\n",
    " \"python\"\n",
    "]"
   ]
  },
  {
   "cell_type": "code",
   "execution_count": null,
   "metadata": {},
   "outputs": [],
   "source": [
    "# visualize the percentage of the term in jupyter, r, javascript\n",
    "# (word_counts.assign(p_python = word_counts.python/word_counts['all'], \n",
    "#                    p_jupyter = word_counts.jupyter/word_counts['all'],\n",
    "#                    p_r = word_counts.r/word_counts['all'],\n",
    "#                    p_typescript = word_counts.typescript/word_counts['all'],\n",
    "#                    p_javascript = word_counts.javascript/word_counts['all'],\n",
    "#                    p_batchfile = word_counts.batchfile/word_counts['all'])\n",
    "#  .sort_values(by='all')[['p_python', 'p_jupyter', 'p_r','p_typescript','p_javascript','p_batchfile']]\n",
    "#  .tail(20)\n",
    "#  .sort_values('p_jupyter')\n",
    "#  .plot.barh(stacked=True, figsize = (20,10))\n",
    "# )\n",
    "\n",
    "# plt.title(\"Proportion of 20 most common keywords in GitHub Geology README Files\", fontsize = 20)\n",
    "# plt.show()\n"
   ]
  },
  {
   "cell_type": "code",
   "execution_count": null,
   "metadata": {},
   "outputs": [],
   "source": [
    "# combine list of word counts into df for further exploration\n",
    "word_counts = explore.create_df_word_counts(jupyter_freq, r_freq, javascript_freq)\n",
    "word_counts.head()"
   ]
  },
  {
   "cell_type": "markdown",
   "metadata": {},
   "source": [
    "***\n",
    "`Next, compute proportion of each string that for each language.\n",
    "Because the languages are relatively balanced, we should see about the same proportion as the distibution in the dataset. If we see significantly higher or lower proportion, then that word might be a good feature in predicting that language.\n",
    "A chi-square test could confirm or deny significance if needed.`\n",
    "***"
   ]
  },
  {
   "cell_type": "code",
   "execution_count": null,
   "metadata": {},
   "outputs": [],
   "source": [
    "word_counts = explore.word_counts_proportion(word_counts)\n",
    "word_counts.head(10)"
   ]
  },
  {
   "cell_type": "code",
   "execution_count": null,
   "metadata": {},
   "outputs": [],
   "source": [
    "# visualize the % of the term in each language\n",
    "explore.proportion_visualization(word_counts)"
   ]
  },
  {
   "cell_type": "code",
   "execution_count": null,
   "metadata": {},
   "outputs": [],
   "source": [
    "# Wordcloud python\n",
    "plt.figure(figsize=(10,10))\n",
    "text = jupyter_words\n",
    "wc = WordCloud(background_color=\"white\",\n",
    "               max_words=2000, max_font_size=224,\n",
    "               random_state=42)\n",
    "wc.generate(text)\n",
    "plt.imshow(wc, interpolation=\"bilinear\")\n",
    "plt.axis('off')\n",
    "plt.show()"
   ]
  },
  {
   "cell_type": "code",
   "execution_count": null,
   "metadata": {},
   "outputs": [],
   "source": [
    "# Wordcloud js\n",
    "plt.figure(figsize=(10,10))\n",
    "text = javascript_words\n",
    "wc = WordCloud(background_color=\"white\",\n",
    "               max_words=2000, max_font_size=224,\n",
    "               random_state=42)\n",
    "wc.generate(text)\n",
    "plt.imshow(wc, interpolation=\"bilinear\")\n",
    "plt.axis('off')\n",
    "plt.show()"
   ]
  },
  {
   "cell_type": "code",
   "execution_count": null,
   "metadata": {},
   "outputs": [],
   "source": [
    "# Wordcloud R\n",
    "plt.figure(figsize=(10,10))\n",
    "text = r_words\n",
    "wc = WordCloud(background_color=\"white\",\n",
    "               max_words=2000, max_font_size=224,\n",
    "               random_state=42)\n",
    "wc.generate(text)\n",
    "plt.imshow(wc, interpolation=\"bilinear\")\n",
    "plt.axis('off')\n",
    "plt.show()"
   ]
  },
  {
   "cell_type": "markdown",
   "metadata": {},
   "source": [
    "## Bigrams and Trigrams"
   ]
  },
  {
   "cell_type": "code",
   "execution_count": null,
   "metadata": {},
   "outputs": [],
   "source": [
    "#Create list of bigrams\n",
    "ham_bigrams = pd.Series(list(nltk.ngrams(ham_words.split(), 2))).value_counts().hea"
   ]
  },
  {
   "cell_type": "code",
   "execution_count": null,
   "metadata": {},
   "outputs": [],
   "source": [
    "# addd code"
   ]
  }
 ],
 "metadata": {
  "kernelspec": {
   "display_name": "Python 3",
   "language": "python",
   "name": "python3"
  },
  "language_info": {
   "codemirror_mode": {
    "name": "ipython",
    "version": 3
   },
   "file_extension": ".py",
   "mimetype": "text/x-python",
   "name": "python",
   "nbconvert_exporter": "python",
   "pygments_lexer": "ipython3",
   "version": "3.8.5"
  }
 },
 "nbformat": 4,
 "nbformat_minor": 4
}
