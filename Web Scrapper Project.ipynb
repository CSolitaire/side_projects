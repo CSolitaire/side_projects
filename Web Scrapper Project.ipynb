{
 "cells": [
  {
   "cell_type": "markdown",
   "metadata": {},
   "source": [
    "## Imports"
   ]
  },
  {
   "cell_type": "code",
   "execution_count": 1,
   "metadata": {},
   "outputs": [],
   "source": [
    "# Imports\n",
    "\n",
    "import pandas as pd\n",
    "import numpy as np\n",
    "import acquire\n",
    "import prepare"
   ]
  },
  {
   "cell_type": "markdown",
   "metadata": {},
   "source": [
    "## Call In DF"
   ]
  },
  {
   "cell_type": "code",
   "execution_count": 2,
   "metadata": {},
   "outputs": [
    {
     "name": "stdout",
     "output_type": "stream",
     "text": [
      "<class 'pandas.core.frame.DataFrame'>\n",
      "RangeIndex: 1841 entries, 0 to 1840\n",
      "Data columns (total 3 columns):\n",
      " #   Column    Non-Null Count  Dtype         \n",
      "---  ------    --------------  -----         \n",
      " 0   language  1841 non-null   object        \n",
      " 1   content   1841 non-null   object        \n",
      " 2   date      1841 non-null   datetime64[ns]\n",
      "dtypes: datetime64[ns](1), object(2)\n",
      "memory usage: 43.3+ KB\n",
      "None\n"
     ]
    },
    {
     "data": {
      "text/html": [
       "<div>\n",
       "<style scoped>\n",
       "    .dataframe tbody tr th:only-of-type {\n",
       "        vertical-align: middle;\n",
       "    }\n",
       "\n",
       "    .dataframe tbody tr th {\n",
       "        vertical-align: top;\n",
       "    }\n",
       "\n",
       "    .dataframe thead th {\n",
       "        text-align: right;\n",
       "    }\n",
       "</style>\n",
       "<table border=\"1\" class=\"dataframe\">\n",
       "  <thead>\n",
       "    <tr style=\"text-align: right;\">\n",
       "      <th></th>\n",
       "      <th>language</th>\n",
       "      <th>content</th>\n",
       "      <th>date</th>\n",
       "    </tr>\n",
       "  </thead>\n",
       "  <tbody>\n",
       "    <tr>\n",
       "      <th>0</th>\n",
       "      <td>Jupyter Notebook</td>\n",
       "      <td>hylite\\nhylite is an open-source python packag...</td>\n",
       "      <td>2020-11-27 17:31:07.762967</td>\n",
       "    </tr>\n",
       "    <tr>\n",
       "      <th>1</th>\n",
       "      <td>Python</td>\n",
       "      <td>\\n\\n\\n\\n\\n\\nWebviz subsurface\\n\\n✨👓 Live demo ...</td>\n",
       "      <td>2020-11-27 17:31:08.305803</td>\n",
       "    </tr>\n",
       "    <tr>\n",
       "      <th>2</th>\n",
       "      <td>R</td>\n",
       "      <td>Reforester\\nReforester, an R program that:\\n\\n...</td>\n",
       "      <td>2020-11-27 17:31:08.926568</td>\n",
       "    </tr>\n",
       "    <tr>\n",
       "      <th>3</th>\n",
       "      <td>JavaScript</td>\n",
       "      <td>Swissgeol NGM\\nA Geology 3D viewer\\nSwissgeol ...</td>\n",
       "      <td>2020-11-27 17:31:09.532752</td>\n",
       "    </tr>\n",
       "    <tr>\n",
       "      <th>4</th>\n",
       "      <td>Python</td>\n",
       "      <td>geomodel-2-3dweb\\n\\nGenerates 3D web versions ...</td>\n",
       "      <td>2020-11-27 17:31:10.206395</td>\n",
       "    </tr>\n",
       "  </tbody>\n",
       "</table>\n",
       "</div>"
      ],
      "text/plain": [
       "           language                                            content  \\\n",
       "0  Jupyter Notebook  hylite\\nhylite is an open-source python packag...   \n",
       "1            Python  \\n\\n\\n\\n\\n\\nWebviz subsurface\\n\\n✨👓 Live demo ...   \n",
       "2                 R  Reforester\\nReforester, an R program that:\\n\\n...   \n",
       "3        JavaScript  Swissgeol NGM\\nA Geology 3D viewer\\nSwissgeol ...   \n",
       "4            Python  geomodel-2-3dweb\\n\\nGenerates 3D web versions ...   \n",
       "\n",
       "                        date  \n",
       "0 2020-11-27 17:31:07.762967  \n",
       "1 2020-11-27 17:31:08.305803  \n",
       "2 2020-11-27 17:31:08.926568  \n",
       "3 2020-11-27 17:31:09.532752  \n",
       "4 2020-11-27 17:31:10.206395  "
      ]
     },
     "execution_count": 2,
     "metadata": {},
     "output_type": "execute_result"
    }
   ],
   "source": [
    "df = acquire.get_github_geology_results(cached=True)\n",
    "print(df.info())\n",
    "df.head()"
   ]
  },
  {
   "cell_type": "code",
   "execution_count": 3,
   "metadata": {},
   "outputs": [
    {
     "data": {
      "text/plain": [
       "Python              463\n",
       "Jupyter Notebook    460\n",
       "R                   232\n",
       "JavaScript          229\n",
       "TypeScript          229\n",
       "Batchfile           228\n",
       "Name: language, dtype: int64"
      ]
     },
     "execution_count": 3,
     "metadata": {},
     "output_type": "execute_result"
    }
   ],
   "source": [
    "df.language.value_counts()"
   ]
  },
  {
   "cell_type": "code",
   "execution_count": 4,
   "metadata": {},
   "outputs": [
    {
     "name": "stdout",
     "output_type": "stream",
     "text": [
      "<class 'pandas.core.frame.DataFrame'>\n",
      "RangeIndex: 1841 entries, 0 to 1840\n",
      "Data columns (total 8 columns):\n",
      " #   Column      Non-Null Count  Dtype         \n",
      "---  ------      --------------  -----         \n",
      " 0   language    1841 non-null   object        \n",
      " 1   content     1841 non-null   object        \n",
      " 2   date        1841 non-null   datetime64[ns]\n",
      " 3   clean       1841 non-null   object        \n",
      " 4   stemmed     1841 non-null   object        \n",
      " 5   lemmatized  1841 non-null   object        \n",
      " 6   words       1841 non-null   object        \n",
      " 7   doc_length  1841 non-null   int64         \n",
      "dtypes: datetime64[ns](1), int64(1), object(6)\n",
      "memory usage: 115.2+ KB\n",
      "None\n"
     ]
    },
    {
     "data": {
      "text/html": [
       "<div>\n",
       "<style scoped>\n",
       "    .dataframe tbody tr th:only-of-type {\n",
       "        vertical-align: middle;\n",
       "    }\n",
       "\n",
       "    .dataframe tbody tr th {\n",
       "        vertical-align: top;\n",
       "    }\n",
       "\n",
       "    .dataframe thead th {\n",
       "        text-align: right;\n",
       "    }\n",
       "</style>\n",
       "<table border=\"1\" class=\"dataframe\">\n",
       "  <thead>\n",
       "    <tr style=\"text-align: right;\">\n",
       "      <th></th>\n",
       "      <th>language</th>\n",
       "      <th>content</th>\n",
       "      <th>date</th>\n",
       "      <th>clean</th>\n",
       "      <th>stemmed</th>\n",
       "      <th>lemmatized</th>\n",
       "      <th>words</th>\n",
       "      <th>doc_length</th>\n",
       "    </tr>\n",
       "  </thead>\n",
       "  <tbody>\n",
       "    <tr>\n",
       "      <th>0</th>\n",
       "      <td>Jupyter Notebook</td>\n",
       "      <td>hylite\\nhylite is an open-source python packag...</td>\n",
       "      <td>2020-11-27 17:31:07.762967</td>\n",
       "      <td>hylite hylite opensource python package prepro...</td>\n",
       "      <td>hylit hylit opensourc python packag preprocess...</td>\n",
       "      <td>hylite hylite opensource python package prepro...</td>\n",
       "      <td>[hylite, hylite, opensource, python, package, ...</td>\n",
       "      <td>300</td>\n",
       "    </tr>\n",
       "    <tr>\n",
       "      <th>1</th>\n",
       "      <td>Python</td>\n",
       "      <td>\\n\\n\\n\\n\\n\\nWebviz subsurface\\n\\n✨👓 Live demo ...</td>\n",
       "      <td>2020-11-27 17:31:08.305803</td>\n",
       "      <td>webviz subsurface live demo application introd...</td>\n",
       "      <td>webviz subsurfac live demo applic introduct re...</td>\n",
       "      <td>webviz subsurface live demo application introd...</td>\n",
       "      <td>[webviz, subsurface, live, demo, application, ...</td>\n",
       "      <td>261</td>\n",
       "    </tr>\n",
       "    <tr>\n",
       "      <th>2</th>\n",
       "      <td>R</td>\n",
       "      <td>Reforester\\nReforester, an R program that:\\n\\n...</td>\n",
       "      <td>2020-11-27 17:31:08.926568</td>\n",
       "      <td>reforester reforester r program uses logistic ...</td>\n",
       "      <td>reforest reforest r program use logist birthde...</td>\n",
       "      <td>reforester reforester r program us logistic bi...</td>\n",
       "      <td>[reforester, reforesterprogram, us, logistic, ...</td>\n",
       "      <td>777</td>\n",
       "    </tr>\n",
       "    <tr>\n",
       "      <th>3</th>\n",
       "      <td>JavaScript</td>\n",
       "      <td>Swissgeol NGM\\nA Geology 3D viewer\\nSwissgeol ...</td>\n",
       "      <td>2020-11-27 17:31:09.532752</td>\n",
       "      <td>swissgeol ngm geology 3d viewer swissgeol new ...</td>\n",
       "      <td>swissgeol ngm geolog 3d viewer swissgeol new g...</td>\n",
       "      <td>swissgeol ngm geology 3d viewer swissgeol new ...</td>\n",
       "      <td>[swissgeol, ngm, geology, 3d, viewer, swissgeo...</td>\n",
       "      <td>127</td>\n",
       "    </tr>\n",
       "    <tr>\n",
       "      <th>4</th>\n",
       "      <td>Python</td>\n",
       "      <td>geomodel-2-3dweb\\n\\nGenerates 3D web versions ...</td>\n",
       "      <td>2020-11-27 17:31:10.206395</td>\n",
       "      <td>geomodel23dweb generates 3d web versions geolo...</td>\n",
       "      <td>geomodel23dweb gener 3d web version geolog mod...</td>\n",
       "      <td>geomodel23dweb generates 3d web version geolog...</td>\n",
       "      <td>[geomodel23dweb, generates, 3d, web, version, ...</td>\n",
       "      <td>173</td>\n",
       "    </tr>\n",
       "  </tbody>\n",
       "</table>\n",
       "</div>"
      ],
      "text/plain": [
       "           language                                            content  \\\n",
       "0  Jupyter Notebook  hylite\\nhylite is an open-source python packag...   \n",
       "1            Python  \\n\\n\\n\\n\\n\\nWebviz subsurface\\n\\n✨👓 Live demo ...   \n",
       "2                 R  Reforester\\nReforester, an R program that:\\n\\n...   \n",
       "3        JavaScript  Swissgeol NGM\\nA Geology 3D viewer\\nSwissgeol ...   \n",
       "4            Python  geomodel-2-3dweb\\n\\nGenerates 3D web versions ...   \n",
       "\n",
       "                        date  \\\n",
       "0 2020-11-27 17:31:07.762967   \n",
       "1 2020-11-27 17:31:08.305803   \n",
       "2 2020-11-27 17:31:08.926568   \n",
       "3 2020-11-27 17:31:09.532752   \n",
       "4 2020-11-27 17:31:10.206395   \n",
       "\n",
       "                                               clean  \\\n",
       "0  hylite hylite opensource python package prepro...   \n",
       "1  webviz subsurface live demo application introd...   \n",
       "2  reforester reforester r program uses logistic ...   \n",
       "3  swissgeol ngm geology 3d viewer swissgeol new ...   \n",
       "4  geomodel23dweb generates 3d web versions geolo...   \n",
       "\n",
       "                                             stemmed  \\\n",
       "0  hylit hylit opensourc python packag preprocess...   \n",
       "1  webviz subsurfac live demo applic introduct re...   \n",
       "2  reforest reforest r program use logist birthde...   \n",
       "3  swissgeol ngm geolog 3d viewer swissgeol new g...   \n",
       "4  geomodel23dweb gener 3d web version geolog mod...   \n",
       "\n",
       "                                          lemmatized  \\\n",
       "0  hylite hylite opensource python package prepro...   \n",
       "1  webviz subsurface live demo application introd...   \n",
       "2  reforester reforester r program us logistic bi...   \n",
       "3  swissgeol ngm geology 3d viewer swissgeol new ...   \n",
       "4  geomodel23dweb generates 3d web version geolog...   \n",
       "\n",
       "                                               words  doc_length  \n",
       "0  [hylite, hylite, opensource, python, package, ...         300  \n",
       "1  [webviz, subsurface, live, demo, application, ...         261  \n",
       "2  [reforester, reforesterprogram, us, logistic, ...         777  \n",
       "3  [swissgeol, ngm, geology, 3d, viewer, swissgeo...         127  \n",
       "4  [geomodel23dweb, generates, 3d, web, version, ...         173  "
      ]
     },
     "execution_count": 4,
     "metadata": {},
     "output_type": "execute_result"
    }
   ],
   "source": [
    "#Clean\n",
    "df = prepare.prep_data(df, 'content', extra_words=[], exclude_words=[])\n",
    "print(df.info())\n",
    "df.head()"
   ]
  },
  {
   "cell_type": "code",
   "execution_count": 5,
   "metadata": {},
   "outputs": [
    {
     "data": {
      "text/plain": [
       "Python              463\n",
       "Jupyter Notebook    460\n",
       "R                   232\n",
       "JavaScript          229\n",
       "TypeScript          229\n",
       "Batchfile           228\n",
       "Name: language, dtype: int64"
      ]
     },
     "execution_count": 5,
     "metadata": {},
     "output_type": "execute_result"
    }
   ],
   "source": [
    "df.language.value_counts()"
   ]
  },
  {
   "cell_type": "code",
   "execution_count": null,
   "metadata": {},
   "outputs": [],
   "source": []
  },
  {
   "cell_type": "code",
   "execution_count": null,
   "metadata": {},
   "outputs": [],
   "source": []
  }
 ],
 "metadata": {
  "kernelspec": {
   "display_name": "Python 3",
   "language": "python",
   "name": "python3"
  },
  "language_info": {
   "codemirror_mode": {
    "name": "ipython",
    "version": 3
   },
   "file_extension": ".py",
   "mimetype": "text/x-python",
   "name": "python",
   "nbconvert_exporter": "python",
   "pygments_lexer": "ipython3",
   "version": "3.8.5"
  }
 },
 "nbformat": 4,
 "nbformat_minor": 4
}
