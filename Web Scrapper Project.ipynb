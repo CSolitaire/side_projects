{
 "cells": [
  {
   "cell_type": "markdown",
   "metadata": {},
   "source": [
    "## Imports"
   ]
  },
  {
   "cell_type": "code",
   "execution_count": 14,
   "metadata": {},
   "outputs": [],
   "source": [
    "# Imports\n",
    "\n",
    "import pandas as pd\n",
    "import numpy as np\n",
    "import acquire\n",
    "import prepare\n",
    "from statistics import mean\n",
    "\n",
    "\n",
    "\n",
    "import re\n",
    "import unicodedata\n",
    "import pandas as pd\n",
    "import nltk\n",
    "\n",
    "import prepare\n",
    "import acquire\n",
    "\n",
    "from nltk.tokenize.toktok import ToktokTokenizer\n",
    "from nltk.corpus import stopwords\n",
    "from wordcloud import WordCloud\n",
    "\n",
    "\n",
    "%matplotlib inline\n",
    "import matplotlib.pyplot as plt\n",
    "import seaborn as sns\n",
    "\n"
   ]
  },
  {
   "cell_type": "markdown",
   "metadata": {},
   "source": [
    "## Call In DF"
   ]
  },
  {
   "cell_type": "code",
   "execution_count": 2,
   "metadata": {},
   "outputs": [
    {
     "name": "stdout",
     "output_type": "stream",
     "text": [
      "<class 'pandas.core.frame.DataFrame'>\n",
      "Int64Index: 1841 entries, 0 to 1840\n",
      "Data columns (total 3 columns):\n",
      " #   Column    Non-Null Count  Dtype         \n",
      "---  ------    --------------  -----         \n",
      " 0   language  1841 non-null   object        \n",
      " 1   content   1841 non-null   object        \n",
      " 2   date      1841 non-null   datetime64[ns]\n",
      "dtypes: datetime64[ns](1), object(2)\n",
      "memory usage: 57.5+ KB\n",
      "None\n"
     ]
    },
    {
     "data": {
      "text/html": [
       "<div>\n",
       "<style scoped>\n",
       "    .dataframe tbody tr th:only-of-type {\n",
       "        vertical-align: middle;\n",
       "    }\n",
       "\n",
       "    .dataframe tbody tr th {\n",
       "        vertical-align: top;\n",
       "    }\n",
       "\n",
       "    .dataframe thead th {\n",
       "        text-align: right;\n",
       "    }\n",
       "</style>\n",
       "<table border=\"1\" class=\"dataframe\">\n",
       "  <thead>\n",
       "    <tr style=\"text-align: right;\">\n",
       "      <th></th>\n",
       "      <th>language</th>\n",
       "      <th>content</th>\n",
       "      <th>date</th>\n",
       "    </tr>\n",
       "  </thead>\n",
       "  <tbody>\n",
       "    <tr>\n",
       "      <th>0</th>\n",
       "      <td>Jupyter Notebook</td>\n",
       "      <td>hylite\\nhylite is an open-source python packag...</td>\n",
       "      <td>2020-11-27 17:31:07.762</td>\n",
       "    </tr>\n",
       "    <tr>\n",
       "      <th>1</th>\n",
       "      <td>Python</td>\n",
       "      <td>\\n\\n\\n\\n\\n\\nWebviz subsurface\\n\\n✨👓 Live demo ...</td>\n",
       "      <td>2020-11-27 17:31:08.305</td>\n",
       "    </tr>\n",
       "    <tr>\n",
       "      <th>2</th>\n",
       "      <td>R</td>\n",
       "      <td>Reforester\\nReforester, an R program that:\\n\\n...</td>\n",
       "      <td>2020-11-27 17:31:08.926</td>\n",
       "    </tr>\n",
       "    <tr>\n",
       "      <th>3</th>\n",
       "      <td>JavaScript</td>\n",
       "      <td>Swissgeol NGM\\nA Geology 3D viewer\\nSwissgeol ...</td>\n",
       "      <td>2020-11-27 17:31:09.532</td>\n",
       "    </tr>\n",
       "    <tr>\n",
       "      <th>4</th>\n",
       "      <td>Python</td>\n",
       "      <td>geomodel-2-3dweb\\n\\nGenerates 3D web versions ...</td>\n",
       "      <td>2020-11-27 17:31:10.206</td>\n",
       "    </tr>\n",
       "  </tbody>\n",
       "</table>\n",
       "</div>"
      ],
      "text/plain": [
       "           language                                            content  \\\n",
       "0  Jupyter Notebook  hylite\\nhylite is an open-source python packag...   \n",
       "1            Python  \\n\\n\\n\\n\\n\\nWebviz subsurface\\n\\n✨👓 Live demo ...   \n",
       "2                 R  Reforester\\nReforester, an R program that:\\n\\n...   \n",
       "3        JavaScript  Swissgeol NGM\\nA Geology 3D viewer\\nSwissgeol ...   \n",
       "4            Python  geomodel-2-3dweb\\n\\nGenerates 3D web versions ...   \n",
       "\n",
       "                     date  \n",
       "0 2020-11-27 17:31:07.762  \n",
       "1 2020-11-27 17:31:08.305  \n",
       "2 2020-11-27 17:31:08.926  \n",
       "3 2020-11-27 17:31:09.532  \n",
       "4 2020-11-27 17:31:10.206  "
      ]
     },
     "execution_count": 2,
     "metadata": {},
     "output_type": "execute_result"
    }
   ],
   "source": [
    "df = acquire.get_github_geology_results(cached=True)\n",
    "print(df.info())\n",
    "df.head()"
   ]
  },
  {
   "cell_type": "code",
   "execution_count": 3,
   "metadata": {},
   "outputs": [
    {
     "data": {
      "text/plain": [
       "Python              463\n",
       "Jupyter Notebook    460\n",
       "R                   232\n",
       "JavaScript          229\n",
       "TypeScript          229\n",
       "Batchfile           228\n",
       "Name: language, dtype: int64"
      ]
     },
     "execution_count": 3,
     "metadata": {},
     "output_type": "execute_result"
    }
   ],
   "source": [
    "df.language.value_counts()"
   ]
  },
  {
   "cell_type": "code",
   "execution_count": 4,
   "metadata": {},
   "outputs": [
    {
     "name": "stdout",
     "output_type": "stream",
     "text": [
      "<class 'pandas.core.frame.DataFrame'>\n",
      "Int64Index: 1841 entries, 0 to 1840\n",
      "Data columns (total 8 columns):\n",
      " #   Column      Non-Null Count  Dtype         \n",
      "---  ------      --------------  -----         \n",
      " 0   language    1841 non-null   object        \n",
      " 1   content     1841 non-null   object        \n",
      " 2   date        1841 non-null   datetime64[ns]\n",
      " 3   clean       1841 non-null   object        \n",
      " 4   stemmed     1841 non-null   object        \n",
      " 5   lemmatized  1841 non-null   object        \n",
      " 6   words       1841 non-null   object        \n",
      " 7   doc_length  1841 non-null   int64         \n",
      "dtypes: datetime64[ns](1), int64(1), object(6)\n",
      "memory usage: 129.4+ KB\n",
      "None\n"
     ]
    },
    {
     "data": {
      "text/html": [
       "<div>\n",
       "<style scoped>\n",
       "    .dataframe tbody tr th:only-of-type {\n",
       "        vertical-align: middle;\n",
       "    }\n",
       "\n",
       "    .dataframe tbody tr th {\n",
       "        vertical-align: top;\n",
       "    }\n",
       "\n",
       "    .dataframe thead th {\n",
       "        text-align: right;\n",
       "    }\n",
       "</style>\n",
       "<table border=\"1\" class=\"dataframe\">\n",
       "  <thead>\n",
       "    <tr style=\"text-align: right;\">\n",
       "      <th></th>\n",
       "      <th>language</th>\n",
       "      <th>content</th>\n",
       "      <th>date</th>\n",
       "      <th>clean</th>\n",
       "      <th>stemmed</th>\n",
       "      <th>lemmatized</th>\n",
       "      <th>words</th>\n",
       "      <th>doc_length</th>\n",
       "    </tr>\n",
       "  </thead>\n",
       "  <tbody>\n",
       "    <tr>\n",
       "      <th>0</th>\n",
       "      <td>Jupyter Notebook</td>\n",
       "      <td>hylite\\nhylite is an open-source python packag...</td>\n",
       "      <td>2020-11-27 17:31:07.762</td>\n",
       "      <td>hylite hylite opensource python package prepro...</td>\n",
       "      <td>hylit hylit opensourc python packag preprocess...</td>\n",
       "      <td>hylite hylite opensource python package prepro...</td>\n",
       "      <td>[hylite, hylite, opensource, python, package, ...</td>\n",
       "      <td>300</td>\n",
       "    </tr>\n",
       "    <tr>\n",
       "      <th>1</th>\n",
       "      <td>Python</td>\n",
       "      <td>\\n\\n\\n\\n\\n\\nWebviz subsurface\\n\\n✨👓 Live demo ...</td>\n",
       "      <td>2020-11-27 17:31:08.305</td>\n",
       "      <td>webviz subsurface live demo application introd...</td>\n",
       "      <td>webviz subsurfac live demo applic introduct re...</td>\n",
       "      <td>webviz subsurface live demo application introd...</td>\n",
       "      <td>[webviz, subsurface, live, demo, application, ...</td>\n",
       "      <td>261</td>\n",
       "    </tr>\n",
       "    <tr>\n",
       "      <th>2</th>\n",
       "      <td>R</td>\n",
       "      <td>Reforester\\nReforester, an R program that:\\n\\n...</td>\n",
       "      <td>2020-11-27 17:31:08.926</td>\n",
       "      <td>reforester reforester r program uses logistic ...</td>\n",
       "      <td>reforest reforest r program use logist birthde...</td>\n",
       "      <td>reforester reforester r program us logistic bi...</td>\n",
       "      <td>[reforester, reforesterprogram, us, logistic, ...</td>\n",
       "      <td>777</td>\n",
       "    </tr>\n",
       "    <tr>\n",
       "      <th>3</th>\n",
       "      <td>JavaScript</td>\n",
       "      <td>Swissgeol NGM\\nA Geology 3D viewer\\nSwissgeol ...</td>\n",
       "      <td>2020-11-27 17:31:09.532</td>\n",
       "      <td>swissgeol ngm geology 3d viewer swissgeol new ...</td>\n",
       "      <td>swissgeol ngm geolog 3d viewer swissgeol new g...</td>\n",
       "      <td>swissgeol ngm geology 3d viewer swissgeol new ...</td>\n",
       "      <td>[swissgeol, ngm, geology, 3d, viewer, swissgeo...</td>\n",
       "      <td>127</td>\n",
       "    </tr>\n",
       "    <tr>\n",
       "      <th>4</th>\n",
       "      <td>Python</td>\n",
       "      <td>geomodel-2-3dweb\\n\\nGenerates 3D web versions ...</td>\n",
       "      <td>2020-11-27 17:31:10.206</td>\n",
       "      <td>geomodel23dweb generates 3d web versions geolo...</td>\n",
       "      <td>geomodel23dweb gener 3d web version geolog mod...</td>\n",
       "      <td>geomodel23dweb generates 3d web version geolog...</td>\n",
       "      <td>[geomodel23dweb, generates, 3d, web, version, ...</td>\n",
       "      <td>173</td>\n",
       "    </tr>\n",
       "  </tbody>\n",
       "</table>\n",
       "</div>"
      ],
      "text/plain": [
       "           language                                            content  \\\n",
       "0  Jupyter Notebook  hylite\\nhylite is an open-source python packag...   \n",
       "1            Python  \\n\\n\\n\\n\\n\\nWebviz subsurface\\n\\n✨👓 Live demo ...   \n",
       "2                 R  Reforester\\nReforester, an R program that:\\n\\n...   \n",
       "3        JavaScript  Swissgeol NGM\\nA Geology 3D viewer\\nSwissgeol ...   \n",
       "4            Python  geomodel-2-3dweb\\n\\nGenerates 3D web versions ...   \n",
       "\n",
       "                     date                                              clean  \\\n",
       "0 2020-11-27 17:31:07.762  hylite hylite opensource python package prepro...   \n",
       "1 2020-11-27 17:31:08.305  webviz subsurface live demo application introd...   \n",
       "2 2020-11-27 17:31:08.926  reforester reforester r program uses logistic ...   \n",
       "3 2020-11-27 17:31:09.532  swissgeol ngm geology 3d viewer swissgeol new ...   \n",
       "4 2020-11-27 17:31:10.206  geomodel23dweb generates 3d web versions geolo...   \n",
       "\n",
       "                                             stemmed  \\\n",
       "0  hylit hylit opensourc python packag preprocess...   \n",
       "1  webviz subsurfac live demo applic introduct re...   \n",
       "2  reforest reforest r program use logist birthde...   \n",
       "3  swissgeol ngm geolog 3d viewer swissgeol new g...   \n",
       "4  geomodel23dweb gener 3d web version geolog mod...   \n",
       "\n",
       "                                          lemmatized  \\\n",
       "0  hylite hylite opensource python package prepro...   \n",
       "1  webviz subsurface live demo application introd...   \n",
       "2  reforester reforester r program us logistic bi...   \n",
       "3  swissgeol ngm geology 3d viewer swissgeol new ...   \n",
       "4  geomodel23dweb generates 3d web version geolog...   \n",
       "\n",
       "                                               words  doc_length  \n",
       "0  [hylite, hylite, opensource, python, package, ...         300  \n",
       "1  [webviz, subsurface, live, demo, application, ...         261  \n",
       "2  [reforester, reforesterprogram, us, logistic, ...         777  \n",
       "3  [swissgeol, ngm, geology, 3d, viewer, swissgeo...         127  \n",
       "4  [geomodel23dweb, generates, 3d, web, version, ...         173  "
      ]
     },
     "execution_count": 4,
     "metadata": {},
     "output_type": "execute_result"
    }
   ],
   "source": [
    "#Clean\n",
    "df = prepare.prep_data(df, 'content', extra_words=[], exclude_words=[])\n",
    "print(df.info())\n",
    "df.head()"
   ]
  },
  {
   "cell_type": "code",
   "execution_count": 5,
   "metadata": {},
   "outputs": [
    {
     "data": {
      "text/plain": [
       "Python              463\n",
       "Jupyter Notebook    460\n",
       "R                   232\n",
       "JavaScript          229\n",
       "TypeScript          229\n",
       "Batchfile           228\n",
       "Name: language, dtype: int64"
      ]
     },
     "execution_count": 5,
     "metadata": {},
     "output_type": "execute_result"
    }
   ],
   "source": [
    "df.language.value_counts()"
   ]
  },
  {
   "cell_type": "markdown",
   "metadata": {},
   "source": [
    "## Ave Length of Readme"
   ]
  },
  {
   "cell_type": "code",
   "execution_count": 13,
   "metadata": {},
   "outputs": [
    {
     "name": "stdout",
     "output_type": "stream",
     "text": [
      "The average word length of the python repositories is 217.1\n",
      "The average word length of the jupyter repositories is 174.1\n",
      "The average word length of the r repositories is 777\n",
      "The average word length of the javascript repositories is 127\n",
      "The average word length of the typescript repositories is 296\n",
      "The average word length of the batchfile repositories is 307\n"
     ]
    }
   ],
   "source": [
    "python_doc_length = round(mean(df[df.language == 'Python'].doc_length), 2)\n",
    "jupyter_doc_length = round(mean(df[df.language == 'Jupyter Notebook'].doc_length),2)\n",
    "r_doc_length = round(mean(df[df.language == 'R'].doc_length),2)\n",
    "javascript_doc_length = round(mean(df[df.language == 'JavaScript'].doc_length),2)\n",
    "typescript_doc_length = round(mean(df[df.language == 'TypeScript'].doc_length),2)\n",
    "batchfile_doc_length = round(mean(df[df.language == 'Batchfile'].doc_length),2)\n",
    "\n",
    "print(f'The average word length of the python repositories is {python_doc_length}')\n",
    "print(f'The average word length of the jupyter repositories is {jupyter_doc_length}')\n",
    "print(f'The average word length of the r repositories is {r_doc_length}')\n",
    "print(f'The average word length of the javascript repositories is {javascript_doc_length}')\n",
    "print(f'The average word length of the typescript repositories is {typescript_doc_length}')\n",
    "print(f'The average word length of the batchfile repositories is {batchfile_doc_length}')"
   ]
  },
  {
   "cell_type": "markdown",
   "metadata": {},
   "source": [
    "## Explore List of Words"
   ]
  },
  {
   "cell_type": "code",
   "execution_count": 16,
   "metadata": {},
   "outputs": [],
   "source": [
    "# Create list of words\n",
    "python_words = ' '.join(df[df.language=='Python'].lemmatized)\n",
    "jupyter_words = ' '.join(df[df.language=='Jupyter Notebook'].lemmatized)\n",
    "r_words = ' '.join(df[df.language=='R'].lemmatized)\n",
    "typescript_words = ' '.join(df[df.language=='TypeScript'].lemmatized)\n",
    "javascript_words = ' '.join(df[df.language=='JavaScript'].lemmatized)\n",
    "batchfile_words = ' '.join(df[df.language=='Batchfile'].lemmatized)\n",
    "all_words = ' '.join(df.lemmatized)"
   ]
  },
  {
   "cell_type": "code",
   "execution_count": 18,
   "metadata": {},
   "outputs": [
    {
     "ename": "SyntaxError",
     "evalue": "invalid syntax (<ipython-input-18-89b9859ad53b>, line 2)",
     "output_type": "error",
     "traceback": [
      "\u001b[0;36m  File \u001b[0;32m\"<ipython-input-18-89b9859ad53b>\"\u001b[0;36m, line \u001b[0;32m2\u001b[0m\n\u001b[0;31m    data = {k[0] : for k in python_words.to_dict().items()}\u001b[0m\n\u001b[0m                   ^\u001b[0m\n\u001b[0;31mSyntaxError\u001b[0m\u001b[0;31m:\u001b[0m invalid syntax\n"
     ]
    }
   ],
   "source": [
    "# Wordcloud python\n",
    "data = {k[0] : for k in python_words.to_dict().items()}\n",
    "img = WordCloud(background_color='grey', \n",
    "                width=800, height=400).generate_from_frequencies(data)\n",
    "plt.figure(figsize=(8, 4))\n",
    "plt.imshow(img)\n",
    "plt.title('Python Wordcloud')\n",
    "plt.axis('off')"
   ]
  },
  {
   "cell_type": "markdown",
   "metadata": {},
   "source": [
    "## Bigrams and Trigrams"
   ]
  },
  {
   "cell_type": "code",
   "execution_count": null,
   "metadata": {},
   "outputs": [],
   "source": [
    "#Create list of bigrams\n",
    "ham_bigrams = pd.Series(list(nltk.ngrams(ham_words.split(), 2))).value_counts().hea"
   ]
  },
  {
   "cell_type": "code",
   "execution_count": null,
   "metadata": {},
   "outputs": [],
   "source": []
  }
 ],
 "metadata": {
  "kernelspec": {
   "display_name": "Python 3",
   "language": "python",
   "name": "python3"
  },
  "language_info": {
   "codemirror_mode": {
    "name": "ipython",
    "version": 3
   },
   "file_extension": ".py",
   "mimetype": "text/x-python",
   "name": "python",
   "nbconvert_exporter": "python",
   "pygments_lexer": "ipython3",
   "version": "3.8.5"
  }
 },
 "nbformat": 4,
 "nbformat_minor": 4
}
